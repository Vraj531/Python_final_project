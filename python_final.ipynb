{
  "nbformat": 4,
  "nbformat_minor": 0,
  "metadata": {
    "colab": {
      "name": "patteern_major_project.ipynb",
      "provenance": [],
      "collapsed_sections": []
    },
    "kernelspec": {
      "name": "python3",
      "display_name": "Python 3"
    },
    "language_info": {
      "name": "python"
    },
    "accelerator": "GPU"
  },
  "cells": [
    {
      "cell_type": "code",
      "execution_count": null,
      "metadata": {
        "colab": {
          "base_uri": "https://localhost:8080/"
        },
        "id": "WmpWBHCA18qd",
        "outputId": "37c45b27-cf26-4b7f-e19c-5940028039cc"
      },
      "outputs": [
        {
          "output_type": "stream",
          "name": "stdout",
          "text": [
            "/content/drive/My Drive/pattern\n"
          ]
        }
      ],
      "source": [
        "cd drive/My Drive/pattern"
      ]
    },
    {
      "cell_type": "code",
      "source": [
        "ls"
      ],
      "metadata": {
        "colab": {
          "base_uri": "https://localhost:8080/"
        },
        "id": "kPeASn7l2WMO",
        "outputId": "dac50d2a-e974-490b-9d1e-3c146593c3bc"
      },
      "execution_count": null,
      "outputs": [
        {
          "output_type": "stream",
          "name": "stdout",
          "text": [
            "archive.zip  \u001b[0m\u001b[01;34msocofing\u001b[0m/  \u001b[01;34mSOCOFing\u001b[0m/  x.dat\n"
          ]
        }
      ]
    },
    {
      "cell_type": "markdown",
      "source": [
        "# Preparing the Dataset"
      ],
      "metadata": {
        "id": "tT6VkPuV_WPr"
      }
    },
    {
      "cell_type": "code",
      "source": [
        "import glob\n",
        "img = glob.glob('SOCOFing/Altered/Altered-Easy/*.BMP')"
      ],
      "metadata": {
        "id": "Wi_1fLZf2dpT"
      },
      "execution_count": null,
      "outputs": []
    },
    {
      "cell_type": "code",
      "source": [
        "len(img)"
      ],
      "metadata": {
        "colab": {
          "base_uri": "https://localhost:8080/"
        },
        "id": "Hm5n6KtO-yO1",
        "outputId": "279a17dc-079e-4f1f-f4f0-fa0b136107c4"
      },
      "execution_count": null,
      "outputs": [
        {
          "output_type": "execute_result",
          "data": {
            "text/plain": [
              "17931"
            ]
          },
          "metadata": {},
          "execution_count": 4
        }
      ]
    },
    {
      "cell_type": "code",
      "source": [
        "# Loading and reshaping the images to convert in the same dimetions\n",
        "from scipy import ndimage\n",
        "# x = []\n",
        "y = []\n",
        "import cv2\n",
        "for i in range(len(img)):\n",
        "  # t = cv2.imread(img[i])\n",
        "  # x.append(ndimage.zoom(t, (103/t.shape[0], 96/t.shape[1],1)))\n",
        "  t = img[i].split('_')\n",
        "  \n",
        "  if t[2]=='M':\n",
        "    y.append(0)\n",
        "  elif t[2]=='F':\n",
        "    y.append(1)"
      ],
      "metadata": {
        "id": "YegPuVcM-zh3"
      },
      "execution_count": null,
      "outputs": []
    },
    {
      "cell_type": "code",
      "source": [
        "t = img[0].split('_')\n",
        "print(t[4])"
      ],
      "metadata": {
        "colab": {
          "base_uri": "https://localhost:8080/"
        },
        "id": "pTaVNZBuURDV",
        "outputId": "d2324ec3-2045-4107-d613-283329ff9aa3"
      },
      "execution_count": null,
      "outputs": [
        {
          "output_type": "stream",
          "name": "stdout",
          "text": [
            "middle\n"
          ]
        }
      ]
    },
    {
      "cell_type": "code",
      "source": [
        "import numpy as np\n",
        "# x.tofile('x.dat')\n",
        "# type(x[0,0,0,0])\n",
        "x = np.fromfile('x.dat', dtype='uint8')\n",
        "x = x.reshape(17931, 103, 96, 3)"
      ],
      "metadata": {
        "id": "TNosXjQlFiBc"
      },
      "execution_count": null,
      "outputs": []
    },
    {
      "cell_type": "code",
      "source": [
        "import numpy as np\n",
        "x = np.array(x)\n",
        "\n",
        "x.shape"
      ],
      "metadata": {
        "colab": {
          "base_uri": "https://localhost:8080/"
        },
        "id": "g1NfTkjm_-0Y",
        "outputId": "5896d54b-c73e-43c9-9812-96e9eedb6878"
      },
      "execution_count": null,
      "outputs": [
        {
          "output_type": "execute_result",
          "data": {
            "text/plain": [
              "(17931, 103, 96, 3)"
            ]
          },
          "metadata": {},
          "execution_count": 8
        }
      ]
    },
    {
      "cell_type": "code",
      "source": [
        "y = np.array(y)\n",
        "y = y.reshape(17931,1)"
      ],
      "metadata": {
        "id": "2osxo7ikAy5K"
      },
      "execution_count": null,
      "outputs": []
    },
    {
      "cell_type": "code",
      "source": [
        ""
      ],
      "metadata": {
        "id": "CnAlTRpUCmwO"
      },
      "execution_count": null,
      "outputs": []
    },
    {
      "cell_type": "code",
      "source": [
        ""
      ],
      "metadata": {
        "id": "CYGhfP5ZDepf"
      },
      "execution_count": null,
      "outputs": []
    },
    {
      "cell_type": "markdown",
      "source": [
        "# Generating the CNN (Convolution Neural Network) Model to predict the output"
      ],
      "metadata": {
        "id": "oRCn00kxE4yE"
      }
    },
    {
      "cell_type": "code",
      "source": [
        "from __future__ import print_function\n",
        "from __future__ import absolute_import\n",
        "\n",
        "import keras\n",
        "import warnings\n",
        "import numpy as np\n",
        "import tensorflow as tf\n",
        "from keras.models import Model\n",
        "from keras import layers\n",
        "from keras.layers import Activation\n",
        "from keras.layers import Dense\n",
        "from keras.layers import Input\n",
        "from keras.layers import BatchNormalization\n",
        "from keras.layers import Conv2D,UpSampling2D\n",
        "from keras.layers import MaxPooling2D\n",
        "from keras.layers import AveragePooling2D\n",
        "from keras.layers import GlobalAveragePooling2D,Add,Dropout\n",
        "from keras.layers import GlobalMaxPooling2D\n",
        "# from keras.engine.topology import get_source_inputs\n",
        "# from keras.utils.layer_utils import convert_all_kernels_in_model\n",
        "from keras.utils.data_utils import get_file\n",
        "from keras import backend as K\n",
        "from keras.applications.imagenet_utils import decode_predictions\n",
        "# from keras_applications.imagenet_utils import _obtain_input_shape\n",
        "from keras.preprocessing import image\n",
        "from __future__ import print_function\n",
        "import keras\n",
        "from keras.datasets import cifar10\n",
        "from keras.preprocessing.image import ImageDataGenerator\n",
        "from keras.models import Sequential\n",
        "from keras.layers import Dense, Dropout, Activation, Flatten, LeakyReLU\n",
        "from keras.layers import BatchNormalization, Activation, ZeroPadding2D\n",
        "from keras.layers import Conv2D, MaxPooling2D"
      ],
      "metadata": {
        "id": "gtPfWMtFFV-L"
      },
      "execution_count": null,
      "outputs": []
    },
    {
      "cell_type": "code",
      "source": [
        "\n",
        "print('Using real-time data augmentation.')\n",
        "# This will do preprocessing and realtime data augmentation:\n",
        "datagen = ImageDataGenerator(\n",
        "    featurewise_center=False,  # set input mean to 0 over the dataset\n",
        "    samplewise_center=False,  # set each sample mean to 0\n",
        "    featurewise_std_normalization=False,  # divide inputs by std of the dataset\n",
        "    samplewise_std_normalization=False,  # divide each input by its std\n",
        "    zca_whitening=False,  # apply ZCA whitening\n",
        "    zca_epsilon=1e-06,  # epsilon for ZCA whitening\n",
        "    rotation_range=0,  # randomly rotate images in the range (degrees, 0 to 180)\n",
        "    # randomly shift images horizontally (fraction of total width)\n",
        "    width_shift_range=0.1,\n",
        "    # randomly shift images vertically (fraction of total height)\n",
        "    height_shift_range=0.1,\n",
        "    shear_range=0.,  # set range for random shear\n",
        "    zoom_range=0.,  # set range for random zoom\n",
        "    channel_shift_range=0.,  # set range for random channel shifts\n",
        "    # set mode for filling points outside the input boundaries\n",
        "    fill_mode='nearest',\n",
        "    cval=0.,  # value used for fill_mode = \"constant\"\n",
        "    horizontal_flip=True,  # randomly flip images\n",
        "    vertical_flip=False,  # randomly flip images\n",
        "    # set rescaling factor (applied before any other transformation)\n",
        "    rescale=None,\n",
        "    # set function that will be applied on each input\n",
        "    preprocessing_function=None,\n",
        "    # image data format, either \"channels_first\" or \"channels_last\"\n",
        "    data_format=None,\n",
        "    # fraction of images reserved for validation (strictly between 0 and 1)\n",
        "    validation_split=0.0)"
      ],
      "metadata": {
        "colab": {
          "base_uri": "https://localhost:8080/"
        },
        "id": "3ujZNcuxFCP8",
        "outputId": "7c9ff6d3-b365-4d0d-e71d-8e1b793ba476"
      },
      "execution_count": null,
      "outputs": [
        {
          "output_type": "stream",
          "name": "stdout",
          "text": [
            "Using real-time data augmentation.\n"
          ]
        }
      ]
    },
    {
      "cell_type": "code",
      "source": [
        "def CNN(n):\n",
        "  inp=Input(shape=(103,96,3))\n",
        "  x = layers.Conv2D(64, (3, 3),\n",
        "                    activation='relu',\n",
        "                    padding='same',\n",
        "                    name='block1_conv1')(inp)\n",
        "  x=BatchNormalization(momentum=0.8)(x)\n",
        "  \n",
        " \n",
        "  x = layers.Conv2D(64, (3, 3),\n",
        "                    activation='relu',\n",
        "                    padding='same',\n",
        "                    name='block1_conv2')(x)\n",
        "  x=BatchNormalization(momentum=0.8)(x)\n",
        " \n",
        "  x = layers.MaxPooling2D((2, 2), strides=(2, 2), name='block1_pool')(x)\n",
        "  x=BatchNormalization(momentum=0.8)(x)\n",
        " \n",
        "\n",
        "  # Block 2\n",
        "  x = layers.Conv2D(128, (3, 3),\n",
        "                    activation='relu',\n",
        "                    padding='same',\n",
        "                    name='block2_conv1')(x)\n",
        "  x=BatchNormalization(momentum=0.8)(x)\n",
        "  \n",
        "  x = layers.Conv2D(128, (3, 3),\n",
        "                    activation='relu',\n",
        "                    padding='same',\n",
        "                    name='block2_conv2')(x)\n",
        "  x=BatchNormalization(momentum=0.8)(x)\n",
        "#   x=Add()([x,a2])\n",
        "  x = layers.MaxPooling2D((2, 2), strides=(2, 2), name='block2_pool')(x)\n",
        "  x=BatchNormalization(momentum=0.8)(x)\n",
        " \n",
        "\n",
        "  # Block 3\n",
        "  x = layers.Conv2D(256, (3, 3),\n",
        "                    activation='relu',\n",
        "                    padding='same',\n",
        "                    name='block3_conv1')(x)\n",
        "  x=BatchNormalization(momentum=0.8)(x)\n",
        "  \n",
        "  x = layers.Conv2D(256, (3, 3),\n",
        "                    activation='relu',\n",
        "                    padding='same',\n",
        "                    name='block3_conv2')(x)\n",
        "  x=BatchNormalization(momentum=0.8)(x)\n",
        "  x = layers.Conv2D(256, (3, 3),\n",
        "                    activation='relu',\n",
        "                    padding='same',\n",
        "                    name='block3_conv3')(x)\n",
        "  x=BatchNormalization(momentum=0.8)(x)\n",
        "  x = layers.Conv2D(256, (3, 3),\n",
        "                    activation='relu',\n",
        "                    padding='same',\n",
        "                    name='block3_conv4')(x)\n",
        "  x=BatchNormalization(momentum=0.8)(x)\n",
        "#   x=Add()([x,a3])\n",
        "  x = layers.MaxPooling2D((2, 2), strides=(2, 2), name='block3_pool')(x)\n",
        "  x=BatchNormalization(momentum=0.8)(x)\n",
        " \n",
        "\n",
        "  # Block 4\n",
        "  x = layers.Conv2D(512, (3, 3),\n",
        "                    activation='relu',\n",
        "                    padding='same',\n",
        "                    name='block4_conv1')(x)\n",
        "  x=BatchNormalization(momentum=0.8)(x)\n",
        "  \n",
        "  x = layers.Conv2D(512, (3, 3),\n",
        "                    activation='relu',\n",
        "                    padding='same',\n",
        "                    name='block4_conv2')(x)\n",
        "  x=BatchNormalization(momentum=0.8)(x)\n",
        "  x = layers.Conv2D(512, (3, 3),\n",
        "                    activation='relu',\n",
        "                    padding='same',\n",
        "                    name='block4_conv3')(x)\n",
        "  x=BatchNormalization(momentum=0.8)(x)\n",
        "  x = layers.Conv2D(512, (3, 3),\n",
        "                    activation='relu',\n",
        "                    padding='same',\n",
        "                    name='block4_conv4')(x)\n",
        "  x=BatchNormalization(momentum=0.8)(x)\n",
        "#   x=Add()([x,a4])\n",
        "  x = layers.MaxPooling2D((2, 2), strides=(2, 2), name='block4_pool')(x)\n",
        "  x=BatchNormalization(momentum=0.8)(x)\n",
        " \n",
        "\n",
        "  # Block 5\n",
        "  x = layers.Conv2D(512, (3, 3),\n",
        "                    activation='relu',\n",
        "                    padding='same',\n",
        "                    name='block5_conv1')(x)\n",
        "  x=BatchNormalization(momentum=0.8)(x)\n",
        "  \n",
        "  x = layers.Conv2D(512, (3, 3),\n",
        "                    activation='relu',\n",
        "                    padding='same',\n",
        "                    name='block5_conv2')(x)\n",
        "  x=BatchNormalization(momentum=0.8)(x)\n",
        "  x = layers.Conv2D(512, (3, 3),\n",
        "                    activation='relu',\n",
        "                    padding='same',\n",
        "                    name='block5_conv3')(x)\n",
        "  x=BatchNormalization(momentum=0.8)(x)\n",
        "  x = layers.Conv2D(512, (3, 3),\n",
        "                    activation='relu',\n",
        "                    padding='same',\n",
        "                    name='block5_conv4')(x)\n",
        "  x=BatchNormalization(momentum=0.8)(x)\n",
        "#   x=Add()([x,a5])\n",
        "  x = layers.MaxPooling2D((2, 2), strides=(2, 2), name='block5_pool')(x)\n",
        "  x=BatchNormalization(momentum=0.8)(x)\n",
        "  x = Flatten()(x)\n",
        "  x = Dense(64, activation='relu')(x)\n",
        "  x = Dense(16, activation= 'relu')(x)\n",
        "  x = Dense(4, activation='relu')(x)\n",
        "  out = Dense(n, activation='sigmoid')(x)\n",
        " \n",
        "  \n",
        "#   print(out1)\n",
        "  model1=Model(inp,out)\n",
        "  return model1"
      ],
      "metadata": {
        "id": "BXGRX2OAGW5I"
      },
      "execution_count": null,
      "outputs": []
    },
    {
      "cell_type": "markdown",
      "source": [
        "Generating the model which predicts the output as a gender"
      ],
      "metadata": {
        "id": "bifobzhvN73D"
      }
    },
    {
      "cell_type": "code",
      "source": [
        "def ANN(n):\n",
        "  inp=Input(shape=(128))\n",
        "  x = Dense(64, activation='sigmoid')(inp)\n",
        "  x = BatchNormalization(axis=-1)(x)\n",
        "  x = Dropout(0.8)(x)\n",
        "  x = Dense(32, activation= 'sigmoid')(x)\n",
        "  x = BatchNormalization(axis=-1)(x)\n",
        "  x = Dropout(0.8)(x)\n",
        "  x = Dense(16, activation='sigmoid')(x)\n",
        "  x = BatchNormalization(axis=-1)(x)\n",
        "  x = Dropout(0.8)(x)\n",
        "  x = Dense(8, activation='sigmoid')(x)\n",
        "  x = BatchNormalization(axis=-1)(x)\n",
        "  x = Dropout(0.8)(x)\n",
        "  x = BatchNormalization(axis=-1)(x)\n",
        "  out = Dense(n, activation='sigmoid')(x)\n",
        " \n",
        "  \n",
        "#   print(out1)\n",
        "  model1=Model(inp,out)\n",
        "  return model1"
      ],
      "metadata": {
        "id": "h9gZn0bmdbXa"
      },
      "execution_count": null,
      "outputs": []
    },
    {
      "cell_type": "code",
      "source": [
        "model = CNN(1)\n",
        "model.summary()\n",
        "# x = x/255"
      ],
      "metadata": {
        "id": "k0KbmfMnH5KI"
      },
      "execution_count": null,
      "outputs": []
    },
    {
      "cell_type": "code",
      "source": [
        "import numpy as np\n",
        "from sklearn.model_selection import train_test_split\n",
        "x_train, x_test, y_train, y_test = train_test_split(x[:5000], y[:5000], test_size=0.2, random_state=42)"
      ],
      "metadata": {
        "id": "losc7Cl9MvHi"
      },
      "execution_count": null,
      "outputs": []
    },
    {
      "cell_type": "code",
      "source": [
        "opt = tf.keras.optimizers.RMSprop(lr=0.01, decay=1e-6)\n",
        "model.compile(loss='binary_crossentropy', optimizer=opt, metrics=['acc'])\n",
        "model.fit_generator(datagen.flow(x_train, y_train,\n",
        "                                     batch_size=16),\n",
        "                        epochs=10,\n",
        "                        steps_per_epoch=10,\n",
        "                        validation_data=(x_test, y_test),\n",
        "                        workers=4)"
      ],
      "metadata": {
        "colab": {
          "base_uri": "https://localhost:8080/"
        },
        "id": "d16uOkwXIPD2",
        "outputId": "2290028c-db87-46f9-e4ac-0cc3d9195a2c"
      },
      "execution_count": null,
      "outputs": [
        {
          "output_type": "stream",
          "name": "stderr",
          "text": [
            "/usr/local/lib/python3.7/dist-packages/keras/optimizer_v2/rmsprop.py:130: UserWarning: The `lr` argument is deprecated, use `learning_rate` instead.\n",
            "  super(RMSprop, self).__init__(name, **kwargs)\n",
            "/usr/local/lib/python3.7/dist-packages/ipykernel_launcher.py:8: UserWarning: `Model.fit_generator` is deprecated and will be removed in a future version. Please use `Model.fit`, which supports generators.\n",
            "  \n"
          ]
        },
        {
          "output_type": "stream",
          "name": "stdout",
          "text": [
            "Epoch 1/10\n",
            "10/10 [==============================] - 12s 700ms/step - loss: 1.8034 - acc: 0.7063 - val_loss: 30.4348 - val_acc: 0.7840\n",
            "Epoch 2/10\n",
            "10/10 [==============================] - 6s 630ms/step - loss: 0.8587 - acc: 0.7250 - val_loss: 0.6243 - val_acc: 0.7840\n",
            "Epoch 3/10\n",
            "10/10 [==============================] - 6s 630ms/step - loss: 0.5756 - acc: 0.8375 - val_loss: 0.5913 - val_acc: 0.7840\n",
            "Epoch 4/10\n",
            "10/10 [==============================] - 6s 627ms/step - loss: 0.9080 - acc: 0.7625 - val_loss: 0.5808 - val_acc: 0.7780\n",
            "Epoch 5/10\n",
            "10/10 [==============================] - 6s 627ms/step - loss: 0.7496 - acc: 0.7937 - val_loss: 0.5834 - val_acc: 0.7840\n",
            "Epoch 6/10\n",
            "10/10 [==============================] - 6s 631ms/step - loss: 0.6232 - acc: 0.7312 - val_loss: 0.6167 - val_acc: 0.7840\n",
            "Epoch 7/10\n",
            "10/10 [==============================] - 6s 627ms/step - loss: 0.5951 - acc: 0.7500 - val_loss: 0.5487 - val_acc: 0.7840\n",
            "Epoch 8/10\n",
            "10/10 [==============================] - 6s 629ms/step - loss: 0.5737 - acc: 0.7750 - val_loss: 0.5256 - val_acc: 0.7840\n",
            "Epoch 9/10\n",
            "10/10 [==============================] - 6s 630ms/step - loss: 0.5467 - acc: 0.7937 - val_loss: 0.5970 - val_acc: 0.7840\n",
            "Epoch 10/10\n",
            "10/10 [==============================] - 6s 631ms/step - loss: 0.5674 - acc: 0.7937 - val_loss: 1.7672 - val_acc: 0.7840\n"
          ]
        },
        {
          "output_type": "execute_result",
          "data": {
            "text/plain": [
              "<keras.callbacks.History at 0x7f3ce6390490>"
            ]
          },
          "metadata": {},
          "execution_count": 29
        }
      ]
    },
    {
      "cell_type": "markdown",
      "source": [
        "Doing the same with PCA and Neural Network"
      ],
      "metadata": {
        "id": "-TQO6PB_ntpA"
      }
    },
    {
      "cell_type": "code",
      "source": [
        "from sklearn.decomposition import PCA\n",
        " \n",
        "pca = PCA(128)\n",
        "pca_x = x.reshape(17931,103*96*3)\n",
        "pca_x = pca.fit_transform(pca_x[:5000])"
      ],
      "metadata": {
        "id": "1WNq2wHvnuMZ"
      },
      "execution_count": null,
      "outputs": []
    },
    {
      "cell_type": "code",
      "source": [
        "import numpy as np\n",
        "from sklearn.model_selection import train_test_split\n",
        "x_train_pca, x_test_pca, y_train, y_test = train_test_split(pca_x[:5000], y[:5000], test_size=0.2, random_state=42)"
      ],
      "metadata": {
        "id": "1DIcMpkcoEzM"
      },
      "execution_count": null,
      "outputs": []
    },
    {
      "cell_type": "code",
      "source": [
        "pca_model1 = ANN(1)\n",
        "pca_model1.summary()"
      ],
      "metadata": {
        "colab": {
          "base_uri": "https://localhost:8080/"
        },
        "id": "6zpJUwzFoEvo",
        "outputId": "347aa19f-1967-4d69-a5aa-4d6bdc534d34"
      },
      "execution_count": null,
      "outputs": [
        {
          "output_type": "stream",
          "name": "stdout",
          "text": [
            "Model: \"model\"\n",
            "_________________________________________________________________\n",
            " Layer (type)                Output Shape              Param #   \n",
            "=================================================================\n",
            " input_1 (InputLayer)        [(None, 128)]             0         \n",
            "                                                                 \n",
            " dense (Dense)               (None, 64)                8256      \n",
            "                                                                 \n",
            " batch_normalization (BatchN  (None, 64)               256       \n",
            " ormalization)                                                   \n",
            "                                                                 \n",
            " dropout (Dropout)           (None, 64)                0         \n",
            "                                                                 \n",
            " dense_1 (Dense)             (None, 32)                2080      \n",
            "                                                                 \n",
            " batch_normalization_1 (Batc  (None, 32)               128       \n",
            " hNormalization)                                                 \n",
            "                                                                 \n",
            " dropout_1 (Dropout)         (None, 32)                0         \n",
            "                                                                 \n",
            " dense_2 (Dense)             (None, 16)                528       \n",
            "                                                                 \n",
            " batch_normalization_2 (Batc  (None, 16)               64        \n",
            " hNormalization)                                                 \n",
            "                                                                 \n",
            " dropout_2 (Dropout)         (None, 16)                0         \n",
            "                                                                 \n",
            " dense_3 (Dense)             (None, 8)                 136       \n",
            "                                                                 \n",
            " batch_normalization_3 (Batc  (None, 8)                32        \n",
            " hNormalization)                                                 \n",
            "                                                                 \n",
            " dropout_3 (Dropout)         (None, 8)                 0         \n",
            "                                                                 \n",
            " batch_normalization_4 (Batc  (None, 8)                32        \n",
            " hNormalization)                                                 \n",
            "                                                                 \n",
            " dense_4 (Dense)             (None, 1)                 9         \n",
            "                                                                 \n",
            "=================================================================\n",
            "Total params: 11,521\n",
            "Trainable params: 11,265\n",
            "Non-trainable params: 256\n",
            "_________________________________________________________________\n"
          ]
        }
      ]
    },
    {
      "cell_type": "code",
      "source": [
        "pca_model1.compile(loss=\"binary_crossentropy\", optimizer='adam', metrics = ['acc'])\n",
        "pca_model1.fit(x_train_pca, y_train, validation_data=(x_test_pca, y_test), epochs=100)"
      ],
      "metadata": {
        "colab": {
          "base_uri": "https://localhost:8080/"
        },
        "id": "cIMANjFLoEfN",
        "outputId": "b51f12ef-c2a7-4d56-df40-cc0cc8ea8df7"
      },
      "execution_count": null,
      "outputs": [
        {
          "output_type": "stream",
          "name": "stdout",
          "text": [
            "Epoch 1/100\n",
            "125/125 [==============================] - 3s 10ms/step - loss: 0.8144 - acc: 0.5688 - val_loss: 0.5571 - val_acc: 0.7840\n",
            "Epoch 2/100\n",
            "125/125 [==============================] - 1s 7ms/step - loss: 0.6795 - acc: 0.6535 - val_loss: 0.5374 - val_acc: 0.7840\n",
            "Epoch 3/100\n",
            "125/125 [==============================] - 1s 7ms/step - loss: 0.6067 - acc: 0.7138 - val_loss: 0.5267 - val_acc: 0.7840\n",
            "Epoch 4/100\n",
            "125/125 [==============================] - 1s 7ms/step - loss: 0.5884 - acc: 0.7312 - val_loss: 0.5209 - val_acc: 0.7840\n",
            "Epoch 5/100\n",
            "125/125 [==============================] - 1s 7ms/step - loss: 0.5597 - acc: 0.7617 - val_loss: 0.5205 - val_acc: 0.7840\n",
            "Epoch 6/100\n",
            "125/125 [==============================] - 1s 7ms/step - loss: 0.5417 - acc: 0.7740 - val_loss: 0.5198 - val_acc: 0.7840\n",
            "Epoch 7/100\n",
            "125/125 [==============================] - 1s 7ms/step - loss: 0.5343 - acc: 0.7810 - val_loss: 0.5200 - val_acc: 0.7840\n",
            "Epoch 8/100\n",
            "125/125 [==============================] - 1s 7ms/step - loss: 0.5349 - acc: 0.7855 - val_loss: 0.5201 - val_acc: 0.7840\n",
            "Epoch 9/100\n",
            "125/125 [==============================] - 1s 7ms/step - loss: 0.5319 - acc: 0.7870 - val_loss: 0.5204 - val_acc: 0.7840\n",
            "Epoch 10/100\n",
            "125/125 [==============================] - 1s 7ms/step - loss: 0.5311 - acc: 0.7880 - val_loss: 0.5204 - val_acc: 0.7840\n",
            "Epoch 11/100\n",
            "125/125 [==============================] - 1s 7ms/step - loss: 0.5211 - acc: 0.7893 - val_loss: 0.5202 - val_acc: 0.7840\n",
            "Epoch 12/100\n",
            "125/125 [==============================] - 1s 7ms/step - loss: 0.5254 - acc: 0.7897 - val_loss: 0.5202 - val_acc: 0.7840\n",
            "Epoch 13/100\n",
            "125/125 [==============================] - 1s 8ms/step - loss: 0.5204 - acc: 0.7897 - val_loss: 0.5202 - val_acc: 0.7840\n",
            "Epoch 14/100\n",
            "125/125 [==============================] - 1s 7ms/step - loss: 0.5204 - acc: 0.7897 - val_loss: 0.5202 - val_acc: 0.7840\n",
            "Epoch 15/100\n",
            "125/125 [==============================] - 1s 7ms/step - loss: 0.5218 - acc: 0.7897 - val_loss: 0.5203 - val_acc: 0.7840\n",
            "Epoch 16/100\n",
            "125/125 [==============================] - 1s 7ms/step - loss: 0.5190 - acc: 0.7897 - val_loss: 0.5203 - val_acc: 0.7840\n",
            "Epoch 17/100\n",
            "125/125 [==============================] - 1s 7ms/step - loss: 0.5188 - acc: 0.7897 - val_loss: 0.5205 - val_acc: 0.7840\n",
            "Epoch 18/100\n",
            "125/125 [==============================] - 1s 7ms/step - loss: 0.5206 - acc: 0.7897 - val_loss: 0.5206 - val_acc: 0.7840\n",
            "Epoch 19/100\n",
            "125/125 [==============================] - 1s 7ms/step - loss: 0.5164 - acc: 0.7897 - val_loss: 0.5207 - val_acc: 0.7840\n",
            "Epoch 20/100\n",
            "125/125 [==============================] - 1s 7ms/step - loss: 0.5161 - acc: 0.7897 - val_loss: 0.5206 - val_acc: 0.7840\n",
            "Epoch 21/100\n",
            "125/125 [==============================] - 1s 7ms/step - loss: 0.5158 - acc: 0.7897 - val_loss: 0.5204 - val_acc: 0.7840\n",
            "Epoch 22/100\n",
            "125/125 [==============================] - 1s 7ms/step - loss: 0.5197 - acc: 0.7897 - val_loss: 0.5205 - val_acc: 0.7840\n",
            "Epoch 23/100\n",
            "125/125 [==============================] - 1s 9ms/step - loss: 0.5162 - acc: 0.7897 - val_loss: 0.5207 - val_acc: 0.7840\n",
            "Epoch 24/100\n",
            "125/125 [==============================] - 1s 8ms/step - loss: 0.5163 - acc: 0.7897 - val_loss: 0.5208 - val_acc: 0.7840\n",
            "Epoch 25/100\n",
            "125/125 [==============================] - 1s 7ms/step - loss: 0.5155 - acc: 0.7897 - val_loss: 0.5210 - val_acc: 0.7840\n",
            "Epoch 26/100\n",
            "125/125 [==============================] - 1s 8ms/step - loss: 0.5164 - acc: 0.7897 - val_loss: 0.5209 - val_acc: 0.7840\n",
            "Epoch 27/100\n",
            "125/125 [==============================] - 1s 7ms/step - loss: 0.5152 - acc: 0.7897 - val_loss: 0.5208 - val_acc: 0.7840\n",
            "Epoch 28/100\n",
            "125/125 [==============================] - 1s 7ms/step - loss: 0.5153 - acc: 0.7897 - val_loss: 0.5210 - val_acc: 0.7840\n",
            "Epoch 29/100\n",
            "125/125 [==============================] - 1s 7ms/step - loss: 0.5161 - acc: 0.7897 - val_loss: 0.5211 - val_acc: 0.7840\n",
            "Epoch 30/100\n",
            "125/125 [==============================] - 1s 7ms/step - loss: 0.5160 - acc: 0.7897 - val_loss: 0.5211 - val_acc: 0.7840\n",
            "Epoch 31/100\n",
            "125/125 [==============================] - 1s 7ms/step - loss: 0.5159 - acc: 0.7897 - val_loss: 0.5211 - val_acc: 0.7840\n",
            "Epoch 32/100\n",
            "125/125 [==============================] - 1s 7ms/step - loss: 0.5147 - acc: 0.7897 - val_loss: 0.5210 - val_acc: 0.7840\n",
            "Epoch 33/100\n",
            "125/125 [==============================] - 1s 7ms/step - loss: 0.5155 - acc: 0.7897 - val_loss: 0.5211 - val_acc: 0.7840\n",
            "Epoch 34/100\n",
            "125/125 [==============================] - 1s 7ms/step - loss: 0.5150 - acc: 0.7897 - val_loss: 0.5211 - val_acc: 0.7840\n",
            "Epoch 35/100\n",
            "125/125 [==============================] - 1s 7ms/step - loss: 0.5140 - acc: 0.7897 - val_loss: 0.5210 - val_acc: 0.7840\n",
            "Epoch 36/100\n",
            "125/125 [==============================] - 1s 7ms/step - loss: 0.5152 - acc: 0.7897 - val_loss: 0.5210 - val_acc: 0.7840\n",
            "Epoch 37/100\n",
            "125/125 [==============================] - 1s 7ms/step - loss: 0.5156 - acc: 0.7897 - val_loss: 0.5211 - val_acc: 0.7840\n",
            "Epoch 38/100\n",
            "125/125 [==============================] - 1s 7ms/step - loss: 0.5147 - acc: 0.7897 - val_loss: 0.5209 - val_acc: 0.7840\n",
            "Epoch 39/100\n",
            "125/125 [==============================] - 1s 7ms/step - loss: 0.5136 - acc: 0.7897 - val_loss: 0.5208 - val_acc: 0.7840\n",
            "Epoch 40/100\n",
            "125/125 [==============================] - 1s 7ms/step - loss: 0.5150 - acc: 0.7897 - val_loss: 0.5208 - val_acc: 0.7840\n",
            "Epoch 41/100\n",
            "125/125 [==============================] - 1s 7ms/step - loss: 0.5132 - acc: 0.7897 - val_loss: 0.5208 - val_acc: 0.7840\n",
            "Epoch 42/100\n",
            "125/125 [==============================] - 1s 7ms/step - loss: 0.5142 - acc: 0.7897 - val_loss: 0.5206 - val_acc: 0.7840\n",
            "Epoch 43/100\n",
            "125/125 [==============================] - 1s 7ms/step - loss: 0.5148 - acc: 0.7897 - val_loss: 0.5207 - val_acc: 0.7840\n",
            "Epoch 44/100\n",
            "125/125 [==============================] - 1s 7ms/step - loss: 0.5148 - acc: 0.7897 - val_loss: 0.5207 - val_acc: 0.7840\n",
            "Epoch 45/100\n",
            "125/125 [==============================] - 1s 7ms/step - loss: 0.5150 - acc: 0.7897 - val_loss: 0.5207 - val_acc: 0.7840\n",
            "Epoch 46/100\n",
            "125/125 [==============================] - 1s 7ms/step - loss: 0.5147 - acc: 0.7897 - val_loss: 0.5208 - val_acc: 0.7840\n",
            "Epoch 47/100\n",
            "125/125 [==============================] - 1s 7ms/step - loss: 0.5144 - acc: 0.7897 - val_loss: 0.5208 - val_acc: 0.7840\n",
            "Epoch 48/100\n",
            "125/125 [==============================] - 1s 7ms/step - loss: 0.5147 - acc: 0.7897 - val_loss: 0.5209 - val_acc: 0.7840\n",
            "Epoch 49/100\n",
            "125/125 [==============================] - 1s 7ms/step - loss: 0.5148 - acc: 0.7897 - val_loss: 0.5208 - val_acc: 0.7840\n",
            "Epoch 50/100\n",
            "125/125 [==============================] - 1s 7ms/step - loss: 0.5148 - acc: 0.7897 - val_loss: 0.5208 - val_acc: 0.7840\n",
            "Epoch 51/100\n",
            "125/125 [==============================] - 1s 7ms/step - loss: 0.5147 - acc: 0.7897 - val_loss: 0.5208 - val_acc: 0.7840\n",
            "Epoch 52/100\n",
            "125/125 [==============================] - 1s 7ms/step - loss: 0.5147 - acc: 0.7897 - val_loss: 0.5209 - val_acc: 0.7840\n",
            "Epoch 53/100\n",
            "125/125 [==============================] - 1s 7ms/step - loss: 0.5144 - acc: 0.7897 - val_loss: 0.5209 - val_acc: 0.7840\n",
            "Epoch 54/100\n",
            "125/125 [==============================] - 1s 7ms/step - loss: 0.5145 - acc: 0.7897 - val_loss: 0.5208 - val_acc: 0.7840\n",
            "Epoch 55/100\n",
            "125/125 [==============================] - 1s 7ms/step - loss: 0.5145 - acc: 0.7897 - val_loss: 0.5209 - val_acc: 0.7840\n",
            "Epoch 56/100\n",
            "125/125 [==============================] - 1s 7ms/step - loss: 0.5145 - acc: 0.7897 - val_loss: 0.5210 - val_acc: 0.7840\n",
            "Epoch 57/100\n",
            "125/125 [==============================] - 1s 7ms/step - loss: 0.5150 - acc: 0.7897 - val_loss: 0.5209 - val_acc: 0.7840\n",
            "Epoch 58/100\n",
            "125/125 [==============================] - 1s 7ms/step - loss: 0.5145 - acc: 0.7897 - val_loss: 0.5208 - val_acc: 0.7840\n",
            "Epoch 59/100\n",
            "125/125 [==============================] - 1s 7ms/step - loss: 0.5146 - acc: 0.7897 - val_loss: 0.5208 - val_acc: 0.7840\n",
            "Epoch 60/100\n",
            "125/125 [==============================] - 1s 7ms/step - loss: 0.5142 - acc: 0.7897 - val_loss: 0.5207 - val_acc: 0.7840\n",
            "Epoch 61/100\n",
            "125/125 [==============================] - 1s 7ms/step - loss: 0.5137 - acc: 0.7897 - val_loss: 0.5201 - val_acc: 0.7840\n",
            "Epoch 62/100\n",
            "125/125 [==============================] - 1s 7ms/step - loss: 0.5145 - acc: 0.7897 - val_loss: 0.5200 - val_acc: 0.7840\n",
            "Epoch 63/100\n",
            "125/125 [==============================] - 1s 7ms/step - loss: 0.5146 - acc: 0.7897 - val_loss: 0.5202 - val_acc: 0.7840\n",
            "Epoch 64/100\n",
            "125/125 [==============================] - 1s 8ms/step - loss: 0.5143 - acc: 0.7897 - val_loss: 0.5203 - val_acc: 0.7840\n",
            "Epoch 65/100\n",
            "125/125 [==============================] - 1s 7ms/step - loss: 0.5146 - acc: 0.7897 - val_loss: 0.5203 - val_acc: 0.7840\n",
            "Epoch 66/100\n",
            "125/125 [==============================] - 1s 8ms/step - loss: 0.5146 - acc: 0.7897 - val_loss: 0.5203 - val_acc: 0.7840\n",
            "Epoch 67/100\n",
            "125/125 [==============================] - 1s 7ms/step - loss: 0.5143 - acc: 0.7897 - val_loss: 0.5201 - val_acc: 0.7840\n",
            "Epoch 68/100\n",
            "125/125 [==============================] - 1s 7ms/step - loss: 0.5146 - acc: 0.7897 - val_loss: 0.5202 - val_acc: 0.7840\n",
            "Epoch 69/100\n",
            "125/125 [==============================] - 1s 7ms/step - loss: 0.5139 - acc: 0.7897 - val_loss: 0.5199 - val_acc: 0.7840\n",
            "Epoch 70/100\n",
            "125/125 [==============================] - 1s 8ms/step - loss: 0.5141 - acc: 0.7897 - val_loss: 0.5198 - val_acc: 0.7840\n",
            "Epoch 71/100\n",
            "125/125 [==============================] - 1s 8ms/step - loss: 0.5142 - acc: 0.7897 - val_loss: 0.5196 - val_acc: 0.7840\n",
            "Epoch 72/100\n",
            "125/125 [==============================] - 1s 7ms/step - loss: 0.5141 - acc: 0.7897 - val_loss: 0.5191 - val_acc: 0.7840\n",
            "Epoch 73/100\n",
            "125/125 [==============================] - 1s 7ms/step - loss: 0.5144 - acc: 0.7897 - val_loss: 0.5192 - val_acc: 0.7840\n",
            "Epoch 74/100\n",
            "125/125 [==============================] - 1s 7ms/step - loss: 0.5138 - acc: 0.7897 - val_loss: 0.5187 - val_acc: 0.7840\n",
            "Epoch 75/100\n",
            "125/125 [==============================] - 1s 7ms/step - loss: 0.5143 - acc: 0.7897 - val_loss: 0.5187 - val_acc: 0.7840\n",
            "Epoch 76/100\n",
            "125/125 [==============================] - 1s 7ms/step - loss: 0.5139 - acc: 0.7897 - val_loss: 0.5183 - val_acc: 0.7840\n",
            "Epoch 77/100\n",
            "125/125 [==============================] - 1s 8ms/step - loss: 0.5142 - acc: 0.7897 - val_loss: 0.5184 - val_acc: 0.7840\n",
            "Epoch 78/100\n",
            "125/125 [==============================] - 1s 7ms/step - loss: 0.5142 - acc: 0.7897 - val_loss: 0.5181 - val_acc: 0.7840\n",
            "Epoch 79/100\n",
            "125/125 [==============================] - 1s 7ms/step - loss: 0.5143 - acc: 0.7897 - val_loss: 0.5183 - val_acc: 0.7840\n",
            "Epoch 80/100\n",
            "125/125 [==============================] - 1s 7ms/step - loss: 0.5138 - acc: 0.7897 - val_loss: 0.5178 - val_acc: 0.7840\n",
            "Epoch 81/100\n",
            "125/125 [==============================] - 1s 7ms/step - loss: 0.5136 - acc: 0.7897 - val_loss: 0.5174 - val_acc: 0.7840\n",
            "Epoch 82/100\n",
            "125/125 [==============================] - 1s 7ms/step - loss: 0.5143 - acc: 0.7897 - val_loss: 0.5173 - val_acc: 0.7840\n",
            "Epoch 83/100\n",
            "125/125 [==============================] - 1s 7ms/step - loss: 0.5143 - acc: 0.7897 - val_loss: 0.5173 - val_acc: 0.7840\n",
            "Epoch 84/100\n",
            "125/125 [==============================] - 1s 7ms/step - loss: 0.5141 - acc: 0.7897 - val_loss: 0.5171 - val_acc: 0.7840\n",
            "Epoch 85/100\n",
            "125/125 [==============================] - 1s 7ms/step - loss: 0.5137 - acc: 0.7897 - val_loss: 0.5167 - val_acc: 0.7840\n",
            "Epoch 86/100\n",
            "125/125 [==============================] - 1s 7ms/step - loss: 0.5134 - acc: 0.7897 - val_loss: 0.5162 - val_acc: 0.7840\n",
            "Epoch 87/100\n",
            "125/125 [==============================] - 1s 7ms/step - loss: 0.5138 - acc: 0.7897 - val_loss: 0.5156 - val_acc: 0.7840\n",
            "Epoch 88/100\n",
            "125/125 [==============================] - 1s 7ms/step - loss: 0.5138 - acc: 0.7897 - val_loss: 0.5154 - val_acc: 0.7840\n",
            "Epoch 89/100\n",
            "125/125 [==============================] - 1s 7ms/step - loss: 0.5141 - acc: 0.7897 - val_loss: 0.5151 - val_acc: 0.7840\n",
            "Epoch 90/100\n",
            "125/125 [==============================] - 1s 7ms/step - loss: 0.5137 - acc: 0.7897 - val_loss: 0.5149 - val_acc: 0.7840\n",
            "Epoch 91/100\n",
            "125/125 [==============================] - 1s 7ms/step - loss: 0.5137 - acc: 0.7897 - val_loss: 0.5144 - val_acc: 0.7840\n",
            "Epoch 92/100\n",
            "125/125 [==============================] - 1s 7ms/step - loss: 0.5140 - acc: 0.7897 - val_loss: 0.5146 - val_acc: 0.7840\n",
            "Epoch 93/100\n",
            "125/125 [==============================] - 1s 7ms/step - loss: 0.5137 - acc: 0.7897 - val_loss: 0.5142 - val_acc: 0.7840\n",
            "Epoch 94/100\n",
            "125/125 [==============================] - 1s 10ms/step - loss: 0.5143 - acc: 0.7897 - val_loss: 0.5144 - val_acc: 0.7840\n",
            "Epoch 95/100\n",
            "125/125 [==============================] - 1s 10ms/step - loss: 0.5143 - acc: 0.7897 - val_loss: 0.5144 - val_acc: 0.7840\n",
            "Epoch 96/100\n",
            "125/125 [==============================] - 1s 10ms/step - loss: 0.5126 - acc: 0.7897 - val_loss: 0.5135 - val_acc: 0.7840\n",
            "Epoch 97/100\n",
            "125/125 [==============================] - 1s 7ms/step - loss: 0.5127 - acc: 0.7897 - val_loss: 0.5127 - val_acc: 0.7840\n",
            "Epoch 98/100\n",
            "125/125 [==============================] - 1s 7ms/step - loss: 0.5132 - acc: 0.7897 - val_loss: 0.5122 - val_acc: 0.7840\n",
            "Epoch 99/100\n",
            "125/125 [==============================] - 1s 8ms/step - loss: 0.5129 - acc: 0.7897 - val_loss: 0.5119 - val_acc: 0.7840\n",
            "Epoch 100/100\n",
            "125/125 [==============================] - 1s 7ms/step - loss: 0.5129 - acc: 0.7897 - val_loss: 0.5112 - val_acc: 0.7840\n"
          ]
        },
        {
          "output_type": "execute_result",
          "data": {
            "text/plain": [
              "<keras.callbacks.History at 0x7f3627e93510>"
            ]
          },
          "metadata": {},
          "execution_count": 18
        }
      ]
    },
    {
      "cell_type": "markdown",
      "source": [
        "Building a new model in which fingerprint is classified as right hand fingerprint or left hand fingerprint"
      ],
      "metadata": {
        "id": "OcfdIpVUVJCn"
      }
    },
    {
      "cell_type": "code",
      "source": [
        "y_2 = []\n",
        "# Loading and reshaping the images to convert in the same dimetions\n",
        "from scipy import ndimage\n",
        "# x = []\n",
        "import cv2\n",
        "for i in range(len(img)):\n",
        "  # t = cv2.imread(img[i])\n",
        "  # x.append(ndimage.zoom(t, (103/t.shape[0], 96/t.shape[1],1)))\n",
        "  t = img[i].split('_')\n",
        "  \n",
        "  if t[3]=='Right':\n",
        "    y_2.append(0)\n",
        "  elif t[3]=='Left':\n",
        "    y_2.append(1)"
      ],
      "metadata": {
        "id": "IyH0OtvbUFMG"
      },
      "execution_count": null,
      "outputs": []
    },
    {
      "cell_type": "code",
      "source": [
        "y_2 = np.array(y_2)\n",
        "y_2 = y_2.reshape(17931,1)"
      ],
      "metadata": {
        "id": "o0KxEicRVsNh"
      },
      "execution_count": null,
      "outputs": []
    },
    {
      "cell_type": "code",
      "source": [
        "import numpy as np\n",
        "from sklearn.model_selection import train_test_split\n",
        "x_train_2, x_test_2, y_train_2, y_test_2 = train_test_split(x[:5000], y_2[:5000], test_size=0.2, random_state=42)"
      ],
      "metadata": {
        "id": "xtIbqu9hVriI"
      },
      "execution_count": null,
      "outputs": []
    },
    {
      "cell_type": "code",
      "source": [
        "model_2 = CNN(1)\n",
        "model_2.summary()\n",
        "# x = x/255"
      ],
      "metadata": {
        "colab": {
          "base_uri": "https://localhost:8080/"
        },
        "id": "6cMPVnqFV0e7",
        "outputId": "454afb78-aaee-4931-9ba9-5b14ac917c31"
      },
      "execution_count": null,
      "outputs": [
        {
          "output_type": "stream",
          "name": "stdout",
          "text": [
            "Model: \"model_3\"\n",
            "_________________________________________________________________\n",
            " Layer (type)                Output Shape              Param #   \n",
            "=================================================================\n",
            " input_4 (InputLayer)        [(None, 103, 96, 3)]      0         \n",
            "                                                                 \n",
            " block1_conv1 (Conv2D)       (None, 103, 96, 64)       1792      \n",
            "                                                                 \n",
            " batch_normalization_63 (Bat  (None, 103, 96, 64)      256       \n",
            " chNormalization)                                                \n",
            "                                                                 \n",
            " block1_conv2 (Conv2D)       (None, 103, 96, 64)       36928     \n",
            "                                                                 \n",
            " batch_normalization_64 (Bat  (None, 103, 96, 64)      256       \n",
            " chNormalization)                                                \n",
            "                                                                 \n",
            " block1_pool (MaxPooling2D)  (None, 51, 48, 64)        0         \n",
            "                                                                 \n",
            " batch_normalization_65 (Bat  (None, 51, 48, 64)       256       \n",
            " chNormalization)                                                \n",
            "                                                                 \n",
            " block2_conv1 (Conv2D)       (None, 51, 48, 128)       73856     \n",
            "                                                                 \n",
            " batch_normalization_66 (Bat  (None, 51, 48, 128)      512       \n",
            " chNormalization)                                                \n",
            "                                                                 \n",
            " block2_conv2 (Conv2D)       (None, 51, 48, 128)       147584    \n",
            "                                                                 \n",
            " batch_normalization_67 (Bat  (None, 51, 48, 128)      512       \n",
            " chNormalization)                                                \n",
            "                                                                 \n",
            " block2_pool (MaxPooling2D)  (None, 25, 24, 128)       0         \n",
            "                                                                 \n",
            " batch_normalization_68 (Bat  (None, 25, 24, 128)      512       \n",
            " chNormalization)                                                \n",
            "                                                                 \n",
            " block3_conv1 (Conv2D)       (None, 25, 24, 256)       295168    \n",
            "                                                                 \n",
            " batch_normalization_69 (Bat  (None, 25, 24, 256)      1024      \n",
            " chNormalization)                                                \n",
            "                                                                 \n",
            " block3_conv2 (Conv2D)       (None, 25, 24, 256)       590080    \n",
            "                                                                 \n",
            " batch_normalization_70 (Bat  (None, 25, 24, 256)      1024      \n",
            " chNormalization)                                                \n",
            "                                                                 \n",
            " block3_conv3 (Conv2D)       (None, 25, 24, 256)       590080    \n",
            "                                                                 \n",
            " batch_normalization_71 (Bat  (None, 25, 24, 256)      1024      \n",
            " chNormalization)                                                \n",
            "                                                                 \n",
            " block3_conv4 (Conv2D)       (None, 25, 24, 256)       590080    \n",
            "                                                                 \n",
            " batch_normalization_72 (Bat  (None, 25, 24, 256)      1024      \n",
            " chNormalization)                                                \n",
            "                                                                 \n",
            " block3_pool (MaxPooling2D)  (None, 12, 12, 256)       0         \n",
            "                                                                 \n",
            " batch_normalization_73 (Bat  (None, 12, 12, 256)      1024      \n",
            " chNormalization)                                                \n",
            "                                                                 \n",
            " block4_conv1 (Conv2D)       (None, 12, 12, 512)       1180160   \n",
            "                                                                 \n",
            " batch_normalization_74 (Bat  (None, 12, 12, 512)      2048      \n",
            " chNormalization)                                                \n",
            "                                                                 \n",
            " block4_conv2 (Conv2D)       (None, 12, 12, 512)       2359808   \n",
            "                                                                 \n",
            " batch_normalization_75 (Bat  (None, 12, 12, 512)      2048      \n",
            " chNormalization)                                                \n",
            "                                                                 \n",
            " block4_conv3 (Conv2D)       (None, 12, 12, 512)       2359808   \n",
            "                                                                 \n",
            " batch_normalization_76 (Bat  (None, 12, 12, 512)      2048      \n",
            " chNormalization)                                                \n",
            "                                                                 \n",
            " block4_conv4 (Conv2D)       (None, 12, 12, 512)       2359808   \n",
            "                                                                 \n",
            " batch_normalization_77 (Bat  (None, 12, 12, 512)      2048      \n",
            " chNormalization)                                                \n",
            "                                                                 \n",
            " block4_pool (MaxPooling2D)  (None, 6, 6, 512)         0         \n",
            "                                                                 \n",
            " batch_normalization_78 (Bat  (None, 6, 6, 512)        2048      \n",
            " chNormalization)                                                \n",
            "                                                                 \n",
            " block5_conv1 (Conv2D)       (None, 6, 6, 512)         2359808   \n",
            "                                                                 \n",
            " batch_normalization_79 (Bat  (None, 6, 6, 512)        2048      \n",
            " chNormalization)                                                \n",
            "                                                                 \n",
            " block5_conv2 (Conv2D)       (None, 6, 6, 512)         2359808   \n",
            "                                                                 \n",
            " batch_normalization_80 (Bat  (None, 6, 6, 512)        2048      \n",
            " chNormalization)                                                \n",
            "                                                                 \n",
            " block5_conv3 (Conv2D)       (None, 6, 6, 512)         2359808   \n",
            "                                                                 \n",
            " batch_normalization_81 (Bat  (None, 6, 6, 512)        2048      \n",
            " chNormalization)                                                \n",
            "                                                                 \n",
            " block5_conv4 (Conv2D)       (None, 6, 6, 512)         2359808   \n",
            "                                                                 \n",
            " batch_normalization_82 (Bat  (None, 6, 6, 512)        2048      \n",
            " chNormalization)                                                \n",
            "                                                                 \n",
            " block5_pool (MaxPooling2D)  (None, 3, 3, 512)         0         \n",
            "                                                                 \n",
            " batch_normalization_83 (Bat  (None, 3, 3, 512)        2048      \n",
            " chNormalization)                                                \n",
            "                                                                 \n",
            " flatten_3 (Flatten)         (None, 4608)              0         \n",
            "                                                                 \n",
            " dense_12 (Dense)            (None, 64)                294976    \n",
            "                                                                 \n",
            " dense_13 (Dense)            (None, 16)                1040      \n",
            "                                                                 \n",
            " dense_14 (Dense)            (None, 4)                 68        \n",
            "                                                                 \n",
            " dense_15 (Dense)            (None, 1)                 5         \n",
            "                                                                 \n",
            "=================================================================\n",
            "Total params: 20,348,377\n",
            "Trainable params: 20,334,425\n",
            "Non-trainable params: 13,952\n",
            "_________________________________________________________________\n"
          ]
        }
      ]
    },
    {
      "cell_type": "code",
      "source": [
        "opt = tf.keras.optimizers.RMSprop(lr=0.01, decay=1e-6)\n",
        "model_2.compile(loss='binary_crossentropy', optimizer=opt, metrics=['acc'])\n",
        "model_2.fit_generator(datagen.flow(x_train_2, y_train_2,\n",
        "                                     batch_size=16),\n",
        "                        epochs=10,\n",
        "                        steps_per_epoch=10,\n",
        "                        validation_data=(x_test_2, y_test_2),\n",
        "                        workers=4)"
      ],
      "metadata": {
        "colab": {
          "base_uri": "https://localhost:8080/"
        },
        "id": "qBnYYyhCV6Nt",
        "outputId": "845fb053-af7e-40c1-eca2-8d3f0ee53e3b"
      },
      "execution_count": null,
      "outputs": [
        {
          "output_type": "stream",
          "name": "stderr",
          "text": [
            "/usr/local/lib/python3.7/dist-packages/keras/optimizer_v2/rmsprop.py:130: UserWarning: The `lr` argument is deprecated, use `learning_rate` instead.\n",
            "  super(RMSprop, self).__init__(name, **kwargs)\n",
            "/usr/local/lib/python3.7/dist-packages/ipykernel_launcher.py:8: UserWarning: `Model.fit_generator` is deprecated and will be removed in a future version. Please use `Model.fit`, which supports generators.\n",
            "  \n"
          ]
        },
        {
          "output_type": "stream",
          "name": "stdout",
          "text": [
            "Epoch 1/10\n",
            "10/10 [==============================] - 13s 718ms/step - loss: 1.6076 - acc: 0.5250 - val_loss: 0.7700 - val_acc: 0.4870\n",
            "Epoch 2/10\n",
            "10/10 [==============================] - 6s 627ms/step - loss: 0.7315 - acc: 0.5562 - val_loss: 0.7061 - val_acc: 0.4840\n",
            "Epoch 3/10\n",
            "10/10 [==============================] - 6s 627ms/step - loss: 0.7243 - acc: 0.5375 - val_loss: 0.6949 - val_acc: 0.5600\n",
            "Epoch 4/10\n",
            "10/10 [==============================] - 6s 629ms/step - loss: 0.7136 - acc: 0.5500 - val_loss: 0.6905 - val_acc: 0.4950\n",
            "Epoch 5/10\n",
            "10/10 [==============================] - 6s 626ms/step - loss: 0.6953 - acc: 0.5875 - val_loss: 0.8685 - val_acc: 0.6110\n",
            "Epoch 6/10\n",
            "10/10 [==============================] - 8s 823ms/step - loss: 0.6865 - acc: 0.5562 - val_loss: 0.6945 - val_acc: 0.5150\n",
            "Epoch 7/10\n",
            "10/10 [==============================] - 6s 629ms/step - loss: 0.7323 - acc: 0.5250 - val_loss: 0.6935 - val_acc: 0.5050\n",
            "Epoch 8/10\n",
            "10/10 [==============================] - 6s 626ms/step - loss: 0.7031 - acc: 0.4938 - val_loss: 0.6847 - val_acc: 0.5570\n",
            "Epoch 9/10\n",
            "10/10 [==============================] - 6s 628ms/step - loss: 0.7068 - acc: 0.6125 - val_loss: 0.6786 - val_acc: 0.5510\n",
            "Epoch 10/10\n",
            "10/10 [==============================] - 6s 625ms/step - loss: 0.6544 - acc: 0.6125 - val_loss: 0.6891 - val_acc: 0.5090\n"
          ]
        },
        {
          "output_type": "execute_result",
          "data": {
            "text/plain": [
              "<keras.callbacks.History at 0x7f3ce3038c90>"
            ]
          },
          "metadata": {},
          "execution_count": 42
        }
      ]
    },
    {
      "cell_type": "markdown",
      "source": [
        "Using PCA"
      ],
      "metadata": {
        "id": "7KoV9nk8rEDx"
      }
    },
    {
      "cell_type": "code",
      "source": [
        "pca_model2 = ANN(1)\n",
        "pca_model2.summary()\n",
        "# x = x/255"
      ],
      "metadata": {
        "colab": {
          "base_uri": "https://localhost:8080/"
        },
        "id": "U-F9YdjzrDat",
        "outputId": "225bdf4d-7d31-47e0-cc24-6770325ebb1d"
      },
      "execution_count": null,
      "outputs": [
        {
          "output_type": "stream",
          "name": "stdout",
          "text": [
            "Model: \"model_2\"\n",
            "_________________________________________________________________\n",
            " Layer (type)                Output Shape              Param #   \n",
            "=================================================================\n",
            " input_3 (InputLayer)        [(None, 128)]             0         \n",
            "                                                                 \n",
            " dense_10 (Dense)            (None, 64)                8256      \n",
            "                                                                 \n",
            " batch_normalization_10 (Bat  (None, 64)               256       \n",
            " chNormalization)                                                \n",
            "                                                                 \n",
            " dropout_8 (Dropout)         (None, 64)                0         \n",
            "                                                                 \n",
            " dense_11 (Dense)            (None, 32)                2080      \n",
            "                                                                 \n",
            " batch_normalization_11 (Bat  (None, 32)               128       \n",
            " chNormalization)                                                \n",
            "                                                                 \n",
            " dropout_9 (Dropout)         (None, 32)                0         \n",
            "                                                                 \n",
            " dense_12 (Dense)            (None, 16)                528       \n",
            "                                                                 \n",
            " batch_normalization_12 (Bat  (None, 16)               64        \n",
            " chNormalization)                                                \n",
            "                                                                 \n",
            " dropout_10 (Dropout)        (None, 16)                0         \n",
            "                                                                 \n",
            " dense_13 (Dense)            (None, 8)                 136       \n",
            "                                                                 \n",
            " batch_normalization_13 (Bat  (None, 8)                32        \n",
            " chNormalization)                                                \n",
            "                                                                 \n",
            " dropout_11 (Dropout)        (None, 8)                 0         \n",
            "                                                                 \n",
            " batch_normalization_14 (Bat  (None, 8)                32        \n",
            " chNormalization)                                                \n",
            "                                                                 \n",
            " dense_14 (Dense)            (None, 1)                 9         \n",
            "                                                                 \n",
            "=================================================================\n",
            "Total params: 11,521\n",
            "Trainable params: 11,265\n",
            "Non-trainable params: 256\n",
            "_________________________________________________________________\n"
          ]
        }
      ]
    },
    {
      "cell_type": "code",
      "source": [
        "import numpy as np\n",
        "from sklearn.model_selection import train_test_split\n",
        "x_train_2_pca, x_test_2_pca, y_train_2, y_test_2 = train_test_split(pca_x[:5000], y_2[:5000], test_size=0.2, random_state=42)"
      ],
      "metadata": {
        "id": "mcECrwQArjs0"
      },
      "execution_count": null,
      "outputs": []
    },
    {
      "cell_type": "code",
      "source": [
        "pca_model2.compile(loss=\"binary_crossentropy\", optimizer='adam', metrics = ['acc'])\n",
        "pca_model2.fit(x_train_2_pca, y_train_2, validation_data=(x_test_2_pca, y_test_2), epochs=100)"
      ],
      "metadata": {
        "colab": {
          "base_uri": "https://localhost:8080/"
        },
        "id": "z7mJAsY_rjqn",
        "outputId": "ec5e75fd-be9d-4a74-b478-867781deda9b"
      },
      "execution_count": null,
      "outputs": [
        {
          "output_type": "stream",
          "name": "stdout",
          "text": [
            "Epoch 1/100\n",
            "125/125 [==============================] - 3s 9ms/step - loss: 0.7953 - acc: 0.5150 - val_loss: 0.6875 - val_acc: 0.5410\n",
            "Epoch 2/100\n",
            "125/125 [==============================] - 1s 7ms/step - loss: 0.7448 - acc: 0.5173 - val_loss: 0.6782 - val_acc: 0.6090\n",
            "Epoch 3/100\n",
            "125/125 [==============================] - 1s 7ms/step - loss: 0.7327 - acc: 0.5110 - val_loss: 0.6725 - val_acc: 0.6300\n",
            "Epoch 4/100\n",
            "125/125 [==============================] - 1s 7ms/step - loss: 0.7135 - acc: 0.5077 - val_loss: 0.6711 - val_acc: 0.6320\n",
            "Epoch 5/100\n",
            "125/125 [==============================] - 1s 7ms/step - loss: 0.7111 - acc: 0.5025 - val_loss: 0.6734 - val_acc: 0.6380\n",
            "Epoch 6/100\n",
            "125/125 [==============================] - 1s 7ms/step - loss: 0.7025 - acc: 0.5167 - val_loss: 0.6745 - val_acc: 0.6380\n",
            "Epoch 7/100\n",
            "125/125 [==============================] - 1s 7ms/step - loss: 0.6972 - acc: 0.5105 - val_loss: 0.6762 - val_acc: 0.6440\n",
            "Epoch 8/100\n",
            "125/125 [==============================] - 1s 7ms/step - loss: 0.6984 - acc: 0.5185 - val_loss: 0.6780 - val_acc: 0.6450\n",
            "Epoch 9/100\n",
            "125/125 [==============================] - 1s 7ms/step - loss: 0.6949 - acc: 0.5155 - val_loss: 0.6789 - val_acc: 0.6550\n",
            "Epoch 10/100\n",
            "125/125 [==============================] - 1s 7ms/step - loss: 0.6958 - acc: 0.5042 - val_loss: 0.6805 - val_acc: 0.6530\n",
            "Epoch 11/100\n",
            "125/125 [==============================] - 1s 7ms/step - loss: 0.6935 - acc: 0.5145 - val_loss: 0.6812 - val_acc: 0.6570\n",
            "Epoch 12/100\n",
            "125/125 [==============================] - 1s 7ms/step - loss: 0.6920 - acc: 0.5167 - val_loss: 0.6816 - val_acc: 0.6490\n",
            "Epoch 13/100\n",
            "125/125 [==============================] - 1s 7ms/step - loss: 0.6939 - acc: 0.5005 - val_loss: 0.6823 - val_acc: 0.6500\n",
            "Epoch 14/100\n",
            "125/125 [==============================] - 1s 7ms/step - loss: 0.6935 - acc: 0.5178 - val_loss: 0.6827 - val_acc: 0.6530\n",
            "Epoch 15/100\n",
            "125/125 [==============================] - 1s 7ms/step - loss: 0.6923 - acc: 0.5220 - val_loss: 0.6832 - val_acc: 0.6530\n",
            "Epoch 16/100\n",
            "125/125 [==============================] - 1s 7ms/step - loss: 0.6924 - acc: 0.5142 - val_loss: 0.6825 - val_acc: 0.6600\n",
            "Epoch 17/100\n",
            "125/125 [==============================] - 1s 7ms/step - loss: 0.6913 - acc: 0.5280 - val_loss: 0.6804 - val_acc: 0.6600\n",
            "Epoch 18/100\n",
            "125/125 [==============================] - 1s 7ms/step - loss: 0.6909 - acc: 0.5232 - val_loss: 0.6789 - val_acc: 0.6530\n",
            "Epoch 19/100\n",
            "125/125 [==============================] - 1s 7ms/step - loss: 0.6926 - acc: 0.5185 - val_loss: 0.6793 - val_acc: 0.6590\n",
            "Epoch 20/100\n",
            "125/125 [==============================] - 1s 7ms/step - loss: 0.6924 - acc: 0.5157 - val_loss: 0.6792 - val_acc: 0.6640\n",
            "Epoch 21/100\n",
            "125/125 [==============================] - 1s 7ms/step - loss: 0.6915 - acc: 0.5148 - val_loss: 0.6787 - val_acc: 0.6600\n",
            "Epoch 22/100\n",
            "125/125 [==============================] - 1s 7ms/step - loss: 0.6902 - acc: 0.5315 - val_loss: 0.6760 - val_acc: 0.6650\n",
            "Epoch 23/100\n",
            "125/125 [==============================] - 1s 7ms/step - loss: 0.6901 - acc: 0.5232 - val_loss: 0.6738 - val_acc: 0.6640\n",
            "Epoch 24/100\n",
            "125/125 [==============================] - 1s 7ms/step - loss: 0.6910 - acc: 0.5253 - val_loss: 0.6730 - val_acc: 0.6600\n",
            "Epoch 25/100\n",
            "125/125 [==============================] - 1s 7ms/step - loss: 0.6897 - acc: 0.5355 - val_loss: 0.6703 - val_acc: 0.6640\n",
            "Epoch 26/100\n",
            "125/125 [==============================] - 1s 7ms/step - loss: 0.6893 - acc: 0.5397 - val_loss: 0.6694 - val_acc: 0.6650\n",
            "Epoch 27/100\n",
            "125/125 [==============================] - 1s 7ms/step - loss: 0.6876 - acc: 0.5368 - val_loss: 0.6655 - val_acc: 0.6600\n",
            "Epoch 28/100\n",
            "125/125 [==============================] - 1s 7ms/step - loss: 0.6865 - acc: 0.5497 - val_loss: 0.6626 - val_acc: 0.6630\n",
            "Epoch 29/100\n",
            "125/125 [==============================] - 1s 7ms/step - loss: 0.6866 - acc: 0.5460 - val_loss: 0.6608 - val_acc: 0.6620\n",
            "Epoch 30/100\n",
            "125/125 [==============================] - 1s 7ms/step - loss: 0.6870 - acc: 0.5470 - val_loss: 0.6595 - val_acc: 0.6540\n",
            "Epoch 31/100\n",
            "125/125 [==============================] - 1s 10ms/step - loss: 0.6869 - acc: 0.5530 - val_loss: 0.6589 - val_acc: 0.6630\n",
            "Epoch 32/100\n",
            "125/125 [==============================] - 1s 7ms/step - loss: 0.6833 - acc: 0.5602 - val_loss: 0.6547 - val_acc: 0.6590\n",
            "Epoch 33/100\n",
            "125/125 [==============================] - 1s 7ms/step - loss: 0.6867 - acc: 0.5485 - val_loss: 0.6554 - val_acc: 0.6650\n",
            "Epoch 34/100\n",
            "125/125 [==============================] - 1s 10ms/step - loss: 0.6836 - acc: 0.5530 - val_loss: 0.6533 - val_acc: 0.6580\n",
            "Epoch 35/100\n",
            "125/125 [==============================] - 1s 7ms/step - loss: 0.6837 - acc: 0.5645 - val_loss: 0.6514 - val_acc: 0.6570\n",
            "Epoch 36/100\n",
            "125/125 [==============================] - 1s 7ms/step - loss: 0.6818 - acc: 0.5738 - val_loss: 0.6492 - val_acc: 0.6610\n",
            "Epoch 37/100\n",
            "125/125 [==============================] - 1s 7ms/step - loss: 0.6796 - acc: 0.5807 - val_loss: 0.6477 - val_acc: 0.6630\n",
            "Epoch 38/100\n",
            "125/125 [==============================] - 1s 7ms/step - loss: 0.6801 - acc: 0.5642 - val_loss: 0.6469 - val_acc: 0.6670\n",
            "Epoch 39/100\n",
            "125/125 [==============================] - 1s 7ms/step - loss: 0.6769 - acc: 0.5763 - val_loss: 0.6434 - val_acc: 0.6660\n",
            "Epoch 40/100\n",
            "125/125 [==============================] - 1s 7ms/step - loss: 0.6734 - acc: 0.5865 - val_loss: 0.6408 - val_acc: 0.6680\n",
            "Epoch 41/100\n",
            "125/125 [==============================] - 1s 7ms/step - loss: 0.6770 - acc: 0.5698 - val_loss: 0.6416 - val_acc: 0.6630\n",
            "Epoch 42/100\n",
            "125/125 [==============================] - 1s 7ms/step - loss: 0.6786 - acc: 0.5785 - val_loss: 0.6424 - val_acc: 0.6700\n",
            "Epoch 43/100\n",
            "125/125 [==============================] - 1s 7ms/step - loss: 0.6790 - acc: 0.5825 - val_loss: 0.6410 - val_acc: 0.6770\n",
            "Epoch 44/100\n",
            "125/125 [==============================] - 1s 8ms/step - loss: 0.6784 - acc: 0.5780 - val_loss: 0.6418 - val_acc: 0.6710\n",
            "Epoch 45/100\n",
            "125/125 [==============================] - 1s 7ms/step - loss: 0.6824 - acc: 0.5732 - val_loss: 0.6451 - val_acc: 0.6690\n",
            "Epoch 46/100\n",
            "125/125 [==============================] - 1s 7ms/step - loss: 0.6736 - acc: 0.5968 - val_loss: 0.6412 - val_acc: 0.6670\n",
            "Epoch 47/100\n",
            "125/125 [==============================] - 1s 7ms/step - loss: 0.6767 - acc: 0.5935 - val_loss: 0.6409 - val_acc: 0.6690\n",
            "Epoch 48/100\n",
            "125/125 [==============================] - 1s 7ms/step - loss: 0.6753 - acc: 0.5870 - val_loss: 0.6406 - val_acc: 0.6660\n",
            "Epoch 49/100\n",
            "125/125 [==============================] - 1s 7ms/step - loss: 0.6757 - acc: 0.5860 - val_loss: 0.6407 - val_acc: 0.6670\n",
            "Epoch 50/100\n",
            "125/125 [==============================] - 1s 7ms/step - loss: 0.6716 - acc: 0.5957 - val_loss: 0.6389 - val_acc: 0.6710\n",
            "Epoch 51/100\n",
            "125/125 [==============================] - 1s 7ms/step - loss: 0.6759 - acc: 0.5872 - val_loss: 0.6411 - val_acc: 0.6690\n",
            "Epoch 52/100\n",
            "125/125 [==============================] - 1s 7ms/step - loss: 0.6716 - acc: 0.5935 - val_loss: 0.6386 - val_acc: 0.6660\n",
            "Epoch 53/100\n",
            "125/125 [==============================] - 1s 7ms/step - loss: 0.6727 - acc: 0.6015 - val_loss: 0.6374 - val_acc: 0.6670\n",
            "Epoch 54/100\n",
            "125/125 [==============================] - 1s 7ms/step - loss: 0.6706 - acc: 0.6010 - val_loss: 0.6390 - val_acc: 0.6640\n",
            "Epoch 55/100\n",
            "125/125 [==============================] - 1s 7ms/step - loss: 0.6723 - acc: 0.5928 - val_loss: 0.6389 - val_acc: 0.6610\n",
            "Epoch 56/100\n",
            "125/125 [==============================] - 1s 7ms/step - loss: 0.6714 - acc: 0.6020 - val_loss: 0.6385 - val_acc: 0.6690\n",
            "Epoch 57/100\n",
            "125/125 [==============================] - 1s 7ms/step - loss: 0.6720 - acc: 0.5953 - val_loss: 0.6394 - val_acc: 0.6630\n",
            "Epoch 58/100\n",
            "125/125 [==============================] - 1s 7ms/step - loss: 0.6675 - acc: 0.6050 - val_loss: 0.6358 - val_acc: 0.6770\n",
            "Epoch 59/100\n",
            "125/125 [==============================] - 1s 8ms/step - loss: 0.6714 - acc: 0.5955 - val_loss: 0.6370 - val_acc: 0.6710\n",
            "Epoch 60/100\n",
            "125/125 [==============================] - 1s 7ms/step - loss: 0.6786 - acc: 0.5828 - val_loss: 0.6380 - val_acc: 0.6760\n",
            "Epoch 61/100\n",
            "125/125 [==============================] - 1s 7ms/step - loss: 0.6696 - acc: 0.6025 - val_loss: 0.6368 - val_acc: 0.6720\n",
            "Epoch 62/100\n",
            "125/125 [==============================] - 1s 8ms/step - loss: 0.6755 - acc: 0.5965 - val_loss: 0.6396 - val_acc: 0.6720\n",
            "Epoch 63/100\n",
            "125/125 [==============================] - 1s 7ms/step - loss: 0.6676 - acc: 0.6043 - val_loss: 0.6356 - val_acc: 0.6740\n",
            "Epoch 64/100\n",
            "125/125 [==============================] - 1s 7ms/step - loss: 0.6749 - acc: 0.6075 - val_loss: 0.6362 - val_acc: 0.6730\n",
            "Epoch 65/100\n",
            "125/125 [==============================] - 1s 7ms/step - loss: 0.6642 - acc: 0.6118 - val_loss: 0.6323 - val_acc: 0.6780\n",
            "Epoch 66/100\n",
            "125/125 [==============================] - 1s 7ms/step - loss: 0.6723 - acc: 0.5922 - val_loss: 0.6332 - val_acc: 0.6850\n",
            "Epoch 67/100\n",
            "125/125 [==============================] - 1s 7ms/step - loss: 0.6711 - acc: 0.6028 - val_loss: 0.6337 - val_acc: 0.6830\n",
            "Epoch 68/100\n",
            "125/125 [==============================] - 1s 7ms/step - loss: 0.6673 - acc: 0.6160 - val_loss: 0.6351 - val_acc: 0.6700\n",
            "Epoch 69/100\n",
            "125/125 [==============================] - 1s 7ms/step - loss: 0.6656 - acc: 0.6102 - val_loss: 0.6318 - val_acc: 0.6790\n",
            "Epoch 70/100\n",
            "125/125 [==============================] - 1s 7ms/step - loss: 0.6696 - acc: 0.6075 - val_loss: 0.6328 - val_acc: 0.6710\n",
            "Epoch 71/100\n",
            "125/125 [==============================] - 1s 7ms/step - loss: 0.6726 - acc: 0.6062 - val_loss: 0.6360 - val_acc: 0.6730\n",
            "Epoch 72/100\n",
            "125/125 [==============================] - 1s 7ms/step - loss: 0.6689 - acc: 0.6055 - val_loss: 0.6356 - val_acc: 0.6740\n",
            "Epoch 73/100\n",
            "125/125 [==============================] - 1s 7ms/step - loss: 0.6620 - acc: 0.6233 - val_loss: 0.6337 - val_acc: 0.6730\n",
            "Epoch 74/100\n",
            "125/125 [==============================] - 1s 7ms/step - loss: 0.6703 - acc: 0.5928 - val_loss: 0.6344 - val_acc: 0.6710\n",
            "Epoch 75/100\n",
            "125/125 [==============================] - 1s 8ms/step - loss: 0.6704 - acc: 0.6130 - val_loss: 0.6375 - val_acc: 0.6680\n",
            "Epoch 76/100\n",
            "125/125 [==============================] - 1s 8ms/step - loss: 0.6644 - acc: 0.6158 - val_loss: 0.6360 - val_acc: 0.6670\n",
            "Epoch 77/100\n",
            "125/125 [==============================] - 1s 7ms/step - loss: 0.6678 - acc: 0.6100 - val_loss: 0.6372 - val_acc: 0.6600\n",
            "Epoch 78/100\n",
            "125/125 [==============================] - 1s 7ms/step - loss: 0.6702 - acc: 0.6058 - val_loss: 0.6390 - val_acc: 0.6600\n",
            "Epoch 79/100\n",
            "125/125 [==============================] - 1s 7ms/step - loss: 0.6626 - acc: 0.6110 - val_loss: 0.6346 - val_acc: 0.6700\n",
            "Epoch 80/100\n",
            "125/125 [==============================] - 1s 8ms/step - loss: 0.6674 - acc: 0.6077 - val_loss: 0.6356 - val_acc: 0.6720\n",
            "Epoch 81/100\n",
            "125/125 [==============================] - 1s 7ms/step - loss: 0.6676 - acc: 0.6083 - val_loss: 0.6359 - val_acc: 0.6680\n",
            "Epoch 82/100\n",
            "125/125 [==============================] - 1s 8ms/step - loss: 0.6654 - acc: 0.6143 - val_loss: 0.6335 - val_acc: 0.6720\n",
            "Epoch 83/100\n",
            "125/125 [==============================] - 1s 7ms/step - loss: 0.6703 - acc: 0.6047 - val_loss: 0.6338 - val_acc: 0.6760\n",
            "Epoch 84/100\n",
            "125/125 [==============================] - 1s 7ms/step - loss: 0.6682 - acc: 0.6115 - val_loss: 0.6355 - val_acc: 0.6740\n",
            "Epoch 85/100\n",
            "125/125 [==============================] - 1s 8ms/step - loss: 0.6640 - acc: 0.6195 - val_loss: 0.6330 - val_acc: 0.6720\n",
            "Epoch 86/100\n",
            "125/125 [==============================] - 1s 7ms/step - loss: 0.6657 - acc: 0.6043 - val_loss: 0.6316 - val_acc: 0.6720\n",
            "Epoch 87/100\n",
            "125/125 [==============================] - 1s 7ms/step - loss: 0.6672 - acc: 0.6102 - val_loss: 0.6331 - val_acc: 0.6740\n",
            "Epoch 88/100\n",
            "125/125 [==============================] - 1s 7ms/step - loss: 0.6653 - acc: 0.6202 - val_loss: 0.6325 - val_acc: 0.6700\n",
            "Epoch 89/100\n",
            "125/125 [==============================] - 1s 7ms/step - loss: 0.6614 - acc: 0.6152 - val_loss: 0.6298 - val_acc: 0.6790\n",
            "Epoch 90/100\n",
            "125/125 [==============================] - 1s 7ms/step - loss: 0.6610 - acc: 0.6195 - val_loss: 0.6296 - val_acc: 0.6770\n",
            "Epoch 91/100\n",
            "125/125 [==============================] - 1s 8ms/step - loss: 0.6670 - acc: 0.6110 - val_loss: 0.6300 - val_acc: 0.6830\n",
            "Epoch 92/100\n",
            "125/125 [==============================] - 1s 7ms/step - loss: 0.6573 - acc: 0.6283 - val_loss: 0.6299 - val_acc: 0.6750\n",
            "Epoch 93/100\n",
            "125/125 [==============================] - 1s 7ms/step - loss: 0.6710 - acc: 0.6045 - val_loss: 0.6339 - val_acc: 0.6680\n",
            "Epoch 94/100\n",
            "125/125 [==============================] - 1s 7ms/step - loss: 0.6698 - acc: 0.6100 - val_loss: 0.6329 - val_acc: 0.6760\n",
            "Epoch 95/100\n",
            "125/125 [==============================] - 1s 7ms/step - loss: 0.6703 - acc: 0.5985 - val_loss: 0.6338 - val_acc: 0.6820\n",
            "Epoch 96/100\n",
            "125/125 [==============================] - 1s 7ms/step - loss: 0.6605 - acc: 0.6252 - val_loss: 0.6310 - val_acc: 0.6750\n",
            "Epoch 97/100\n",
            "125/125 [==============================] - 1s 7ms/step - loss: 0.6652 - acc: 0.6210 - val_loss: 0.6285 - val_acc: 0.6880\n",
            "Epoch 98/100\n",
            "125/125 [==============================] - 1s 7ms/step - loss: 0.6620 - acc: 0.6115 - val_loss: 0.6276 - val_acc: 0.6850\n",
            "Epoch 99/100\n",
            "125/125 [==============================] - 1s 7ms/step - loss: 0.6682 - acc: 0.6105 - val_loss: 0.6301 - val_acc: 0.6810\n",
            "Epoch 100/100\n",
            "125/125 [==============================] - 1s 7ms/step - loss: 0.6645 - acc: 0.6192 - val_loss: 0.6302 - val_acc: 0.6820\n"
          ]
        },
        {
          "output_type": "execute_result",
          "data": {
            "text/plain": [
              "<keras.callbacks.History at 0x7f3627c99650>"
            ]
          },
          "metadata": {},
          "execution_count": 24
        }
      ]
    },
    {
      "cell_type": "code",
      "source": [
        ""
      ],
      "metadata": {
        "id": "5RWSMQV7rjoj"
      },
      "execution_count": null,
      "outputs": []
    },
    {
      "cell_type": "code",
      "source": [
        ""
      ],
      "metadata": {
        "id": "55qaWyOnrjl7"
      },
      "execution_count": null,
      "outputs": []
    },
    {
      "cell_type": "code",
      "source": [
        ""
      ],
      "metadata": {
        "id": "DqFiJxPBrjjn"
      },
      "execution_count": null,
      "outputs": []
    },
    {
      "cell_type": "markdown",
      "source": [
        "Now we will classify that fingerprint is belongs to which finger Ex. little, ring, middle, index, or thumb"
      ],
      "metadata": {
        "id": "4BnplrG1Yj55"
      }
    },
    {
      "cell_type": "code",
      "source": [
        "c0 = 0\n",
        "c1 = 0\n",
        "c2 = 0\n",
        "c3 = 0\n",
        "c4 = 0\n",
        "y_3 = []\n",
        "# Loading and reshaping the images to convert in the same dimetions\n",
        "from scipy import ndimage\n",
        "# x = []\n",
        "import cv2\n",
        "for i in range(len(img)):\n",
        "  # t = cv2.imread(img[i])\n",
        "  # x.append(ndimage.zoom(t, (103/t.shape[0], 96/t.shape[1],1)))\n",
        "  t = img[i].split('_')\n",
        "  \n",
        "  if t[4]=='little':\n",
        "    y_3.append(0)\n",
        "    c0 += 1\n",
        "  elif t[4]=='ring':\n",
        "    y_3.append(1)\n",
        "    c1 += 1\n",
        "  elif t[4]=='middle':\n",
        "    y_3.append(2)\n",
        "    c2 += 1\n",
        "  elif t[4]=='index':\n",
        "    y_3.append(3)\n",
        "    c3 += 1\n",
        "  elif t[4]=='thumb':\n",
        "    y_3.append(4)\n",
        "    c4 += 1\n",
        "  "
      ],
      "metadata": {
        "id": "gnWvl047XGaj"
      },
      "execution_count": null,
      "outputs": []
    },
    {
      "cell_type": "code",
      "source": [
        "import tensorflow as tf\n",
        "\n",
        "y_3 = np.array(y_3)\n",
        "y_3 = y_3.reshape(17931,1)\n",
        "y_3 = tf.keras.utils.to_categorical(y_3, num_classes=5)\n",
        "y_3 = y_3.reshape(17931, 5)"
      ],
      "metadata": {
        "id": "mHS3PoMlbVSw"
      },
      "execution_count": null,
      "outputs": []
    },
    {
      "cell_type": "code",
      "source": [
        "import numpy as np\n",
        "from sklearn.model_selection import train_test_split\n",
        "x_train_3, x_test_3, y_train_3, y_test_3 = train_test_split(x[:5000], y_3[:5000], test_size=0.2, random_state=42)"
      ],
      "metadata": {
        "id": "yq8c1JOMcvRB"
      },
      "execution_count": null,
      "outputs": []
    },
    {
      "cell_type": "code",
      "source": [
        "model_3 = CNN(5)\n",
        "model_3.summary()\n",
        "# x = x/255"
      ],
      "metadata": {
        "colab": {
          "base_uri": "https://localhost:8080/"
        },
        "id": "qKABe_JFc3iB",
        "outputId": "90547bea-847e-4c04-811b-b1e21575ffe6"
      },
      "execution_count": null,
      "outputs": [
        {
          "output_type": "stream",
          "name": "stdout",
          "text": [
            "Model: \"model_1\"\n",
            "_________________________________________________________________\n",
            " Layer (type)                Output Shape              Param #   \n",
            "=================================================================\n",
            " input_2 (InputLayer)        [(None, 103, 96, 3)]      0         \n",
            "                                                                 \n",
            " block1_conv1 (Conv2D)       (None, 103, 96, 64)       1792      \n",
            "                                                                 \n",
            " batch_normalization_21 (Bat  (None, 103, 96, 64)      256       \n",
            " chNormalization)                                                \n",
            "                                                                 \n",
            " block1_conv2 (Conv2D)       (None, 103, 96, 64)       36928     \n",
            "                                                                 \n",
            " batch_normalization_22 (Bat  (None, 103, 96, 64)      256       \n",
            " chNormalization)                                                \n",
            "                                                                 \n",
            " block1_pool (MaxPooling2D)  (None, 51, 48, 64)        0         \n",
            "                                                                 \n",
            " batch_normalization_23 (Bat  (None, 51, 48, 64)       256       \n",
            " chNormalization)                                                \n",
            "                                                                 \n",
            " block2_conv1 (Conv2D)       (None, 51, 48, 128)       73856     \n",
            "                                                                 \n",
            " batch_normalization_24 (Bat  (None, 51, 48, 128)      512       \n",
            " chNormalization)                                                \n",
            "                                                                 \n",
            " block2_conv2 (Conv2D)       (None, 51, 48, 128)       147584    \n",
            "                                                                 \n",
            " batch_normalization_25 (Bat  (None, 51, 48, 128)      512       \n",
            " chNormalization)                                                \n",
            "                                                                 \n",
            " block2_pool (MaxPooling2D)  (None, 25, 24, 128)       0         \n",
            "                                                                 \n",
            " batch_normalization_26 (Bat  (None, 25, 24, 128)      512       \n",
            " chNormalization)                                                \n",
            "                                                                 \n",
            " block3_conv1 (Conv2D)       (None, 25, 24, 256)       295168    \n",
            "                                                                 \n",
            " batch_normalization_27 (Bat  (None, 25, 24, 256)      1024      \n",
            " chNormalization)                                                \n",
            "                                                                 \n",
            " block3_conv2 (Conv2D)       (None, 25, 24, 256)       590080    \n",
            "                                                                 \n",
            " batch_normalization_28 (Bat  (None, 25, 24, 256)      1024      \n",
            " chNormalization)                                                \n",
            "                                                                 \n",
            " block3_conv3 (Conv2D)       (None, 25, 24, 256)       590080    \n",
            "                                                                 \n",
            " batch_normalization_29 (Bat  (None, 25, 24, 256)      1024      \n",
            " chNormalization)                                                \n",
            "                                                                 \n",
            " block3_conv4 (Conv2D)       (None, 25, 24, 256)       590080    \n",
            "                                                                 \n",
            " batch_normalization_30 (Bat  (None, 25, 24, 256)      1024      \n",
            " chNormalization)                                                \n",
            "                                                                 \n",
            " block3_pool (MaxPooling2D)  (None, 12, 12, 256)       0         \n",
            "                                                                 \n",
            " batch_normalization_31 (Bat  (None, 12, 12, 256)      1024      \n",
            " chNormalization)                                                \n",
            "                                                                 \n",
            " block4_conv1 (Conv2D)       (None, 12, 12, 512)       1180160   \n",
            "                                                                 \n",
            " batch_normalization_32 (Bat  (None, 12, 12, 512)      2048      \n",
            " chNormalization)                                                \n",
            "                                                                 \n",
            " block4_conv2 (Conv2D)       (None, 12, 12, 512)       2359808   \n",
            "                                                                 \n",
            " batch_normalization_33 (Bat  (None, 12, 12, 512)      2048      \n",
            " chNormalization)                                                \n",
            "                                                                 \n",
            " block4_conv3 (Conv2D)       (None, 12, 12, 512)       2359808   \n",
            "                                                                 \n",
            " batch_normalization_34 (Bat  (None, 12, 12, 512)      2048      \n",
            " chNormalization)                                                \n",
            "                                                                 \n",
            " block4_conv4 (Conv2D)       (None, 12, 12, 512)       2359808   \n",
            "                                                                 \n",
            " batch_normalization_35 (Bat  (None, 12, 12, 512)      2048      \n",
            " chNormalization)                                                \n",
            "                                                                 \n",
            " block4_pool (MaxPooling2D)  (None, 6, 6, 512)         0         \n",
            "                                                                 \n",
            " batch_normalization_36 (Bat  (None, 6, 6, 512)        2048      \n",
            " chNormalization)                                                \n",
            "                                                                 \n",
            " block5_conv1 (Conv2D)       (None, 6, 6, 512)         2359808   \n",
            "                                                                 \n",
            " batch_normalization_37 (Bat  (None, 6, 6, 512)        2048      \n",
            " chNormalization)                                                \n",
            "                                                                 \n",
            " block5_conv2 (Conv2D)       (None, 6, 6, 512)         2359808   \n",
            "                                                                 \n",
            " batch_normalization_38 (Bat  (None, 6, 6, 512)        2048      \n",
            " chNormalization)                                                \n",
            "                                                                 \n",
            " block5_conv3 (Conv2D)       (None, 6, 6, 512)         2359808   \n",
            "                                                                 \n",
            " batch_normalization_39 (Bat  (None, 6, 6, 512)        2048      \n",
            " chNormalization)                                                \n",
            "                                                                 \n",
            " block5_conv4 (Conv2D)       (None, 6, 6, 512)         2359808   \n",
            "                                                                 \n",
            " batch_normalization_40 (Bat  (None, 6, 6, 512)        2048      \n",
            " chNormalization)                                                \n",
            "                                                                 \n",
            " block5_pool (MaxPooling2D)  (None, 3, 3, 512)         0         \n",
            "                                                                 \n",
            " batch_normalization_41 (Bat  (None, 3, 3, 512)        2048      \n",
            " chNormalization)                                                \n",
            "                                                                 \n",
            " flatten_1 (Flatten)         (None, 4608)              0         \n",
            "                                                                 \n",
            " dense_4 (Dense)             (None, 64)                294976    \n",
            "                                                                 \n",
            " dense_5 (Dense)             (None, 16)                1040      \n",
            "                                                                 \n",
            " dense_6 (Dense)             (None, 4)                 68        \n",
            "                                                                 \n",
            " dense_7 (Dense)             (None, 5)                 25        \n",
            "                                                                 \n",
            "=================================================================\n",
            "Total params: 20,348,397\n",
            "Trainable params: 20,334,445\n",
            "Non-trainable params: 13,952\n",
            "_________________________________________________________________\n"
          ]
        }
      ]
    },
    {
      "cell_type": "code",
      "source": [
        "opt = tf.keras.optimizers.RMSprop(lr=0.01, decay=1e-6)\n",
        "model_3.compile(loss='categorical_crossentropy', optimizer='adam', metrics=['acc'])\n",
        "model_3.fit_generator(datagen.flow(x_train_3, y_train_3,\n",
        "                                     batch_size=16),\n",
        "                        epochs=10,\n",
        "                        steps_per_epoch=10,\n",
        "                        validation_data=(x_test_3, y_test_3),\n",
        "                        workers=4)"
      ],
      "metadata": {
        "colab": {
          "base_uri": "https://localhost:8080/"
        },
        "id": "pZBPhEdCdOEY",
        "outputId": "16ae33eb-c4b3-49a7-e921-cbba7e7ee5a2"
      },
      "execution_count": null,
      "outputs": [
        {
          "output_type": "stream",
          "name": "stderr",
          "text": [
            "/usr/local/lib/python3.7/dist-packages/keras/optimizer_v2/rmsprop.py:130: UserWarning: The `lr` argument is deprecated, use `learning_rate` instead.\n",
            "  super(RMSprop, self).__init__(name, **kwargs)\n",
            "/usr/local/lib/python3.7/dist-packages/ipykernel_launcher.py:8: UserWarning: `Model.fit_generator` is deprecated and will be removed in a future version. Please use `Model.fit`, which supports generators.\n",
            "  \n"
          ]
        },
        {
          "output_type": "stream",
          "name": "stdout",
          "text": [
            "Epoch 1/10\n",
            "10/10 [==============================] - 9s 658ms/step - loss: 1.7524 - acc: 0.2250 - val_loss: 50.6676 - val_acc: 0.1990\n",
            "Epoch 2/10\n",
            "10/10 [==============================] - 6s 594ms/step - loss: 1.6543 - acc: 0.1813 - val_loss: 2.1492 - val_acc: 0.1850\n",
            "Epoch 3/10\n",
            "10/10 [==============================] - 6s 595ms/step - loss: 1.6555 - acc: 0.2250 - val_loss: 2.3149 - val_acc: 0.2180\n",
            "Epoch 4/10\n",
            "10/10 [==============================] - 6s 594ms/step - loss: 1.6494 - acc: 0.2688 - val_loss: 1.6850 - val_acc: 0.2350\n",
            "Epoch 5/10\n",
            "10/10 [==============================] - 6s 598ms/step - loss: 1.6118 - acc: 0.1875 - val_loss: 1.7409 - val_acc: 0.2610\n",
            "Epoch 6/10\n",
            "10/10 [==============================] - 6s 595ms/step - loss: 1.5777 - acc: 0.2500 - val_loss: 1.5854 - val_acc: 0.2500\n",
            "Epoch 7/10\n",
            "10/10 [==============================] - 6s 597ms/step - loss: 1.6014 - acc: 0.2062 - val_loss: 1.6332 - val_acc: 0.2090\n",
            "Epoch 8/10\n",
            "10/10 [==============================] - 6s 595ms/step - loss: 1.6281 - acc: 0.2188 - val_loss: 2.7008 - val_acc: 0.1850\n",
            "Epoch 9/10\n",
            "10/10 [==============================] - 6s 594ms/step - loss: 1.6933 - acc: 0.1875 - val_loss: 1.6378 - val_acc: 0.2390\n",
            "Epoch 10/10\n",
            "10/10 [==============================] - 6s 593ms/step - loss: 1.5903 - acc: 0.2188 - val_loss: 1.6173 - val_acc: 0.2230\n"
          ]
        },
        {
          "output_type": "execute_result",
          "data": {
            "text/plain": [
              "<keras.callbacks.History at 0x7fab645bed90>"
            ]
          },
          "metadata": {},
          "execution_count": 39
        }
      ]
    },
    {
      "cell_type": "markdown",
      "source": [
        "Using PCA and Feed-forward neural network"
      ],
      "metadata": {
        "id": "cUiF5CbBgkeB"
      }
    },
    {
      "cell_type": "code",
      "source": [
        "from sklearn.decomposition import PCA\n",
        " \n",
        "pca = PCA(128)\n",
        "pca_x = x.reshape(17931,103*96*3)\n",
        "pca_x = pca.fit_transform(pca_x[:5000])"
      ],
      "metadata": {
        "id": "IW2byHZ0gjyK"
      },
      "execution_count": null,
      "outputs": []
    },
    {
      "cell_type": "code",
      "source": [
        "import numpy as np\n",
        "from sklearn.model_selection import train_test_split\n",
        "x_train_3_pca, x_test_3_pca, y_train_3, y_test_3 = train_test_split(pca_x[:5000], y_3[:5000], test_size=0.2, random_state=42)"
      ],
      "metadata": {
        "id": "B7-LMBljjFK_"
      },
      "execution_count": null,
      "outputs": []
    },
    {
      "cell_type": "code",
      "source": [
        "pca_model3 = ANN(5)\n",
        "pca_model3.summary()"
      ],
      "metadata": {
        "colab": {
          "base_uri": "https://localhost:8080/"
        },
        "id": "FoSSaSWej5M9",
        "outputId": "c08cb083-1f37-4018-bd61-882ad686e78e"
      },
      "execution_count": null,
      "outputs": [
        {
          "output_type": "stream",
          "name": "stdout",
          "text": [
            "Model: \"model_1\"\n",
            "_________________________________________________________________\n",
            " Layer (type)                Output Shape              Param #   \n",
            "=================================================================\n",
            " input_2 (InputLayer)        [(None, 128)]             0         \n",
            "                                                                 \n",
            " dense_5 (Dense)             (None, 64)                8256      \n",
            "                                                                 \n",
            " batch_normalization_5 (Batc  (None, 64)               256       \n",
            " hNormalization)                                                 \n",
            "                                                                 \n",
            " dropout_4 (Dropout)         (None, 64)                0         \n",
            "                                                                 \n",
            " dense_6 (Dense)             (None, 32)                2080      \n",
            "                                                                 \n",
            " batch_normalization_6 (Batc  (None, 32)               128       \n",
            " hNormalization)                                                 \n",
            "                                                                 \n",
            " dropout_5 (Dropout)         (None, 32)                0         \n",
            "                                                                 \n",
            " dense_7 (Dense)             (None, 16)                528       \n",
            "                                                                 \n",
            " batch_normalization_7 (Batc  (None, 16)               64        \n",
            " hNormalization)                                                 \n",
            "                                                                 \n",
            " dropout_6 (Dropout)         (None, 16)                0         \n",
            "                                                                 \n",
            " dense_8 (Dense)             (None, 8)                 136       \n",
            "                                                                 \n",
            " batch_normalization_8 (Batc  (None, 8)                32        \n",
            " hNormalization)                                                 \n",
            "                                                                 \n",
            " dropout_7 (Dropout)         (None, 8)                 0         \n",
            "                                                                 \n",
            " batch_normalization_9 (Batc  (None, 8)                32        \n",
            " hNormalization)                                                 \n",
            "                                                                 \n",
            " dense_9 (Dense)             (None, 5)                 45        \n",
            "                                                                 \n",
            "=================================================================\n",
            "Total params: 11,557\n",
            "Trainable params: 11,301\n",
            "Non-trainable params: 256\n",
            "_________________________________________________________________\n"
          ]
        }
      ]
    },
    {
      "cell_type": "code",
      "source": [
        "pca_model3.compile(loss=\"categorical_crossentropy\", optimizer='adam', metrics = ['acc'])\n",
        "pca_model3.fit(x_train_3_pca, y_train_3, validation_data=(x_test_3_pca, y_test_3), epochs=100)"
      ],
      "metadata": {
        "colab": {
          "base_uri": "https://localhost:8080/"
        },
        "id": "Rye2wp3ZkEn9",
        "outputId": "3822901a-b67f-4426-d3d9-9dbc767dc424"
      },
      "execution_count": null,
      "outputs": [
        {
          "output_type": "stream",
          "name": "stdout",
          "text": [
            "Epoch 1/100\n",
            "125/125 [==============================] - 5s 12ms/step - loss: 1.8894 - acc: 0.1988 - val_loss: 1.6144 - val_acc: 0.1960\n",
            "Epoch 2/100\n",
            "125/125 [==============================] - 1s 8ms/step - loss: 1.7711 - acc: 0.1953 - val_loss: 1.6119 - val_acc: 0.1600\n",
            "Epoch 3/100\n",
            "125/125 [==============================] - 1s 8ms/step - loss: 1.7015 - acc: 0.2015 - val_loss: 1.6108 - val_acc: 0.1780\n",
            "Epoch 4/100\n",
            "125/125 [==============================] - 1s 8ms/step - loss: 1.6665 - acc: 0.2023 - val_loss: 1.6075 - val_acc: 0.1910\n",
            "Epoch 5/100\n",
            "125/125 [==============================] - 1s 8ms/step - loss: 1.6566 - acc: 0.1982 - val_loss: 1.6059 - val_acc: 0.1900\n",
            "Epoch 6/100\n",
            "125/125 [==============================] - 1s 7ms/step - loss: 1.6415 - acc: 0.2062 - val_loss: 1.6059 - val_acc: 0.1960\n",
            "Epoch 7/100\n",
            "125/125 [==============================] - 1s 8ms/step - loss: 1.6275 - acc: 0.1912 - val_loss: 1.6056 - val_acc: 0.2070\n",
            "Epoch 8/100\n",
            "125/125 [==============================] - 1s 8ms/step - loss: 1.6178 - acc: 0.2083 - val_loss: 1.6057 - val_acc: 0.1950\n",
            "Epoch 9/100\n",
            "125/125 [==============================] - 1s 7ms/step - loss: 1.6202 - acc: 0.1908 - val_loss: 1.6059 - val_acc: 0.1970\n",
            "Epoch 10/100\n",
            "125/125 [==============================] - 1s 7ms/step - loss: 1.6188 - acc: 0.1933 - val_loss: 1.6065 - val_acc: 0.1960\n",
            "Epoch 11/100\n",
            "125/125 [==============================] - 1s 8ms/step - loss: 1.6149 - acc: 0.1920 - val_loss: 1.6068 - val_acc: 0.2100\n",
            "Epoch 12/100\n",
            "125/125 [==============================] - 1s 8ms/step - loss: 1.6120 - acc: 0.2140 - val_loss: 1.6067 - val_acc: 0.2130\n",
            "Epoch 13/100\n",
            "125/125 [==============================] - 1s 7ms/step - loss: 1.6128 - acc: 0.1902 - val_loss: 1.6062 - val_acc: 0.2340\n",
            "Epoch 14/100\n",
            "125/125 [==============================] - 1s 7ms/step - loss: 1.6086 - acc: 0.2080 - val_loss: 1.6057 - val_acc: 0.2310\n",
            "Epoch 15/100\n",
            "125/125 [==============================] - 1s 7ms/step - loss: 1.6098 - acc: 0.2062 - val_loss: 1.6054 - val_acc: 0.2450\n",
            "Epoch 16/100\n",
            "125/125 [==============================] - 1s 7ms/step - loss: 1.6110 - acc: 0.2060 - val_loss: 1.6056 - val_acc: 0.2500\n",
            "Epoch 17/100\n",
            "125/125 [==============================] - 1s 8ms/step - loss: 1.6106 - acc: 0.2042 - val_loss: 1.6062 - val_acc: 0.2510\n",
            "Epoch 18/100\n",
            "125/125 [==============================] - 1s 8ms/step - loss: 1.6099 - acc: 0.2075 - val_loss: 1.6060 - val_acc: 0.2560\n",
            "Epoch 19/100\n",
            "125/125 [==============================] - 1s 7ms/step - loss: 1.6097 - acc: 0.2055 - val_loss: 1.6061 - val_acc: 0.2510\n",
            "Epoch 20/100\n",
            "125/125 [==============================] - 1s 7ms/step - loss: 1.6103 - acc: 0.1955 - val_loss: 1.6064 - val_acc: 0.2500\n",
            "Epoch 21/100\n",
            "125/125 [==============================] - 1s 7ms/step - loss: 1.6099 - acc: 0.2007 - val_loss: 1.6065 - val_acc: 0.2460\n",
            "Epoch 22/100\n",
            "125/125 [==============================] - 1s 7ms/step - loss: 1.6099 - acc: 0.1890 - val_loss: 1.6067 - val_acc: 0.2540\n",
            "Epoch 23/100\n",
            "125/125 [==============================] - 1s 7ms/step - loss: 1.6097 - acc: 0.2002 - val_loss: 1.6065 - val_acc: 0.2530\n",
            "Epoch 24/100\n",
            "125/125 [==============================] - 1s 8ms/step - loss: 1.6088 - acc: 0.2090 - val_loss: 1.6059 - val_acc: 0.2580\n",
            "Epoch 25/100\n",
            "125/125 [==============================] - 1s 8ms/step - loss: 1.6094 - acc: 0.2015 - val_loss: 1.6057 - val_acc: 0.2650\n",
            "Epoch 26/100\n",
            "125/125 [==============================] - 1s 8ms/step - loss: 1.6100 - acc: 0.2055 - val_loss: 1.6058 - val_acc: 0.2600\n",
            "Epoch 27/100\n",
            "125/125 [==============================] - 1s 7ms/step - loss: 1.6100 - acc: 0.1978 - val_loss: 1.6051 - val_acc: 0.2580\n",
            "Epoch 28/100\n",
            "125/125 [==============================] - 1s 8ms/step - loss: 1.6097 - acc: 0.2085 - val_loss: 1.6055 - val_acc: 0.2570\n",
            "Epoch 29/100\n",
            "125/125 [==============================] - 1s 8ms/step - loss: 1.6096 - acc: 0.2065 - val_loss: 1.6057 - val_acc: 0.2440\n",
            "Epoch 30/100\n",
            "125/125 [==============================] - 1s 8ms/step - loss: 1.6089 - acc: 0.2017 - val_loss: 1.6044 - val_acc: 0.2510\n",
            "Epoch 31/100\n",
            "125/125 [==============================] - 1s 7ms/step - loss: 1.6081 - acc: 0.2060 - val_loss: 1.6023 - val_acc: 0.2930\n",
            "Epoch 32/100\n",
            "125/125 [==============================] - 1s 7ms/step - loss: 1.6091 - acc: 0.2070 - val_loss: 1.6022 - val_acc: 0.2620\n",
            "Epoch 33/100\n",
            "125/125 [==============================] - 1s 7ms/step - loss: 1.6082 - acc: 0.2160 - val_loss: 1.6012 - val_acc: 0.2530\n",
            "Epoch 34/100\n",
            "125/125 [==============================] - 1s 8ms/step - loss: 1.6096 - acc: 0.2100 - val_loss: 1.6009 - val_acc: 0.2760\n",
            "Epoch 35/100\n",
            "125/125 [==============================] - 1s 8ms/step - loss: 1.6081 - acc: 0.2122 - val_loss: 1.5996 - val_acc: 0.3030\n",
            "Epoch 36/100\n",
            "125/125 [==============================] - 1s 8ms/step - loss: 1.6085 - acc: 0.2155 - val_loss: 1.5990 - val_acc: 0.3160\n",
            "Epoch 37/100\n",
            "125/125 [==============================] - 1s 8ms/step - loss: 1.6085 - acc: 0.2205 - val_loss: 1.5984 - val_acc: 0.3020\n",
            "Epoch 38/100\n",
            "125/125 [==============================] - 1s 8ms/step - loss: 1.6078 - acc: 0.2163 - val_loss: 1.5961 - val_acc: 0.3250\n",
            "Epoch 39/100\n",
            "125/125 [==============================] - 1s 8ms/step - loss: 1.6090 - acc: 0.2058 - val_loss: 1.5957 - val_acc: 0.3250\n",
            "Epoch 40/100\n",
            "125/125 [==============================] - 1s 7ms/step - loss: 1.6072 - acc: 0.2093 - val_loss: 1.5934 - val_acc: 0.3250\n",
            "Epoch 41/100\n",
            "125/125 [==============================] - 1s 7ms/step - loss: 1.6081 - acc: 0.2075 - val_loss: 1.5930 - val_acc: 0.3290\n",
            "Epoch 42/100\n",
            "125/125 [==============================] - 1s 8ms/step - loss: 1.6084 - acc: 0.2190 - val_loss: 1.5927 - val_acc: 0.3230\n",
            "Epoch 43/100\n",
            "125/125 [==============================] - 1s 7ms/step - loss: 1.6072 - acc: 0.2100 - val_loss: 1.5909 - val_acc: 0.3240\n",
            "Epoch 44/100\n",
            "125/125 [==============================] - 1s 8ms/step - loss: 1.6050 - acc: 0.2175 - val_loss: 1.5880 - val_acc: 0.3350\n",
            "Epoch 45/100\n",
            "125/125 [==============================] - 1s 8ms/step - loss: 1.6056 - acc: 0.2240 - val_loss: 1.5866 - val_acc: 0.3290\n",
            "Epoch 46/100\n",
            "125/125 [==============================] - 1s 8ms/step - loss: 1.6056 - acc: 0.2148 - val_loss: 1.5837 - val_acc: 0.3240\n",
            "Epoch 47/100\n",
            "125/125 [==============================] - 1s 8ms/step - loss: 1.6072 - acc: 0.2163 - val_loss: 1.5825 - val_acc: 0.3280\n",
            "Epoch 48/100\n",
            "125/125 [==============================] - 1s 7ms/step - loss: 1.6004 - acc: 0.2323 - val_loss: 1.5756 - val_acc: 0.3190\n",
            "Epoch 49/100\n",
            "125/125 [==============================] - 1s 7ms/step - loss: 1.6021 - acc: 0.2245 - val_loss: 1.5744 - val_acc: 0.3130\n",
            "Epoch 50/100\n",
            "125/125 [==============================] - 1s 8ms/step - loss: 1.5993 - acc: 0.2300 - val_loss: 1.5701 - val_acc: 0.3120\n",
            "Epoch 51/100\n",
            "125/125 [==============================] - 1s 8ms/step - loss: 1.5997 - acc: 0.2290 - val_loss: 1.5671 - val_acc: 0.3100\n",
            "Epoch 52/100\n",
            "125/125 [==============================] - 1s 7ms/step - loss: 1.5976 - acc: 0.2282 - val_loss: 1.5620 - val_acc: 0.3140\n",
            "Epoch 53/100\n",
            "125/125 [==============================] - 1s 7ms/step - loss: 1.5932 - acc: 0.2465 - val_loss: 1.5562 - val_acc: 0.3100\n",
            "Epoch 54/100\n",
            "125/125 [==============================] - 1s 8ms/step - loss: 1.5947 - acc: 0.2385 - val_loss: 1.5534 - val_acc: 0.3120\n",
            "Epoch 55/100\n",
            "125/125 [==============================] - 1s 8ms/step - loss: 1.5916 - acc: 0.2488 - val_loss: 1.5499 - val_acc: 0.3120\n",
            "Epoch 56/100\n",
            "125/125 [==============================] - 1s 7ms/step - loss: 1.5949 - acc: 0.2373 - val_loss: 1.5506 - val_acc: 0.3130\n",
            "Epoch 57/100\n",
            "125/125 [==============================] - 1s 8ms/step - loss: 1.5898 - acc: 0.2482 - val_loss: 1.5482 - val_acc: 0.3090\n",
            "Epoch 58/100\n",
            "125/125 [==============================] - 1s 7ms/step - loss: 1.5922 - acc: 0.2438 - val_loss: 1.5464 - val_acc: 0.3120\n",
            "Epoch 59/100\n",
            "125/125 [==============================] - 1s 7ms/step - loss: 1.5878 - acc: 0.2560 - val_loss: 1.5448 - val_acc: 0.3110\n",
            "Epoch 60/100\n",
            "125/125 [==============================] - 1s 7ms/step - loss: 1.5837 - acc: 0.2575 - val_loss: 1.5436 - val_acc: 0.3120\n",
            "Epoch 61/100\n",
            "125/125 [==============================] - 1s 8ms/step - loss: 1.5873 - acc: 0.2525 - val_loss: 1.5439 - val_acc: 0.3180\n",
            "Epoch 62/100\n",
            "125/125 [==============================] - 1s 10ms/step - loss: 1.5901 - acc: 0.2467 - val_loss: 1.5463 - val_acc: 0.3230\n",
            "Epoch 63/100\n",
            "125/125 [==============================] - 1s 9ms/step - loss: 1.5907 - acc: 0.2503 - val_loss: 1.5476 - val_acc: 0.3090\n",
            "Epoch 64/100\n",
            "125/125 [==============================] - 1s 8ms/step - loss: 1.5834 - acc: 0.2655 - val_loss: 1.5455 - val_acc: 0.3110\n",
            "Epoch 65/100\n",
            "125/125 [==============================] - 1s 7ms/step - loss: 1.5879 - acc: 0.2565 - val_loss: 1.5437 - val_acc: 0.3120\n",
            "Epoch 66/100\n",
            "125/125 [==============================] - 1s 7ms/step - loss: 1.5845 - acc: 0.2477 - val_loss: 1.5419 - val_acc: 0.3210\n",
            "Epoch 67/100\n",
            "125/125 [==============================] - 1s 8ms/step - loss: 1.5829 - acc: 0.2632 - val_loss: 1.5418 - val_acc: 0.3180\n",
            "Epoch 68/100\n",
            "125/125 [==============================] - 1s 7ms/step - loss: 1.5829 - acc: 0.2582 - val_loss: 1.5412 - val_acc: 0.3240\n",
            "Epoch 69/100\n",
            "125/125 [==============================] - 1s 8ms/step - loss: 1.5855 - acc: 0.2582 - val_loss: 1.5422 - val_acc: 0.3240\n",
            "Epoch 70/100\n",
            "125/125 [==============================] - 1s 8ms/step - loss: 1.5786 - acc: 0.2657 - val_loss: 1.5415 - val_acc: 0.3170\n",
            "Epoch 71/100\n",
            "125/125 [==============================] - 1s 8ms/step - loss: 1.5771 - acc: 0.2665 - val_loss: 1.5407 - val_acc: 0.3140\n",
            "Epoch 72/100\n",
            "125/125 [==============================] - 1s 8ms/step - loss: 1.5812 - acc: 0.2645 - val_loss: 1.5399 - val_acc: 0.3190\n",
            "Epoch 73/100\n",
            "125/125 [==============================] - 1s 8ms/step - loss: 1.5839 - acc: 0.2657 - val_loss: 1.5406 - val_acc: 0.3220\n",
            "Epoch 74/100\n",
            "125/125 [==============================] - 1s 8ms/step - loss: 1.5780 - acc: 0.2755 - val_loss: 1.5391 - val_acc: 0.3190\n",
            "Epoch 75/100\n",
            "125/125 [==============================] - 1s 7ms/step - loss: 1.5742 - acc: 0.2788 - val_loss: 1.5374 - val_acc: 0.3230\n",
            "Epoch 76/100\n",
            "125/125 [==============================] - 1s 8ms/step - loss: 1.5753 - acc: 0.2670 - val_loss: 1.5366 - val_acc: 0.3240\n",
            "Epoch 77/100\n",
            "125/125 [==============================] - 1s 8ms/step - loss: 1.5778 - acc: 0.2668 - val_loss: 1.5401 - val_acc: 0.3190\n",
            "Epoch 78/100\n",
            "125/125 [==============================] - 1s 7ms/step - loss: 1.5717 - acc: 0.2693 - val_loss: 1.5386 - val_acc: 0.3190\n",
            "Epoch 79/100\n",
            "125/125 [==============================] - 1s 7ms/step - loss: 1.5702 - acc: 0.2700 - val_loss: 1.5375 - val_acc: 0.3200\n",
            "Epoch 80/100\n",
            "125/125 [==============================] - 1s 8ms/step - loss: 1.5745 - acc: 0.2752 - val_loss: 1.5372 - val_acc: 0.3190\n",
            "Epoch 81/100\n",
            "125/125 [==============================] - 1s 8ms/step - loss: 1.5779 - acc: 0.2665 - val_loss: 1.5383 - val_acc: 0.3210\n",
            "Epoch 82/100\n",
            "125/125 [==============================] - 1s 8ms/step - loss: 1.5764 - acc: 0.2643 - val_loss: 1.5373 - val_acc: 0.3220\n",
            "Epoch 83/100\n",
            "125/125 [==============================] - 1s 8ms/step - loss: 1.5743 - acc: 0.2760 - val_loss: 1.5365 - val_acc: 0.3200\n",
            "Epoch 84/100\n",
            "125/125 [==============================] - 1s 8ms/step - loss: 1.5807 - acc: 0.2650 - val_loss: 1.5385 - val_acc: 0.3180\n",
            "Epoch 85/100\n",
            "125/125 [==============================] - 1s 7ms/step - loss: 1.5695 - acc: 0.2727 - val_loss: 1.5335 - val_acc: 0.3210\n",
            "Epoch 86/100\n",
            "125/125 [==============================] - 1s 8ms/step - loss: 1.5741 - acc: 0.2730 - val_loss: 1.5321 - val_acc: 0.3260\n",
            "Epoch 87/100\n",
            "125/125 [==============================] - 1s 8ms/step - loss: 1.5728 - acc: 0.2785 - val_loss: 1.5325 - val_acc: 0.3270\n",
            "Epoch 88/100\n",
            "125/125 [==============================] - 1s 8ms/step - loss: 1.5759 - acc: 0.2713 - val_loss: 1.5341 - val_acc: 0.3200\n",
            "Epoch 89/100\n",
            "125/125 [==============================] - 1s 8ms/step - loss: 1.5682 - acc: 0.2797 - val_loss: 1.5336 - val_acc: 0.3220\n",
            "Epoch 90/100\n",
            "125/125 [==============================] - 1s 8ms/step - loss: 1.5664 - acc: 0.2800 - val_loss: 1.5313 - val_acc: 0.3200\n",
            "Epoch 91/100\n",
            "125/125 [==============================] - 1s 7ms/step - loss: 1.5730 - acc: 0.2745 - val_loss: 1.5313 - val_acc: 0.3230\n",
            "Epoch 92/100\n",
            "125/125 [==============================] - 1s 7ms/step - loss: 1.5740 - acc: 0.2835 - val_loss: 1.5331 - val_acc: 0.3250\n",
            "Epoch 93/100\n",
            "125/125 [==============================] - 1s 8ms/step - loss: 1.5687 - acc: 0.2740 - val_loss: 1.5304 - val_acc: 0.3240\n",
            "Epoch 94/100\n",
            "125/125 [==============================] - 1s 8ms/step - loss: 1.5648 - acc: 0.2765 - val_loss: 1.5298 - val_acc: 0.3280\n",
            "Epoch 95/100\n",
            "125/125 [==============================] - 1s 8ms/step - loss: 1.5692 - acc: 0.2775 - val_loss: 1.5309 - val_acc: 0.3220\n",
            "Epoch 96/100\n",
            "125/125 [==============================] - 1s 8ms/step - loss: 1.5696 - acc: 0.2795 - val_loss: 1.5303 - val_acc: 0.3240\n",
            "Epoch 97/100\n",
            "125/125 [==============================] - 1s 8ms/step - loss: 1.5674 - acc: 0.2840 - val_loss: 1.5280 - val_acc: 0.3280\n",
            "Epoch 98/100\n",
            "125/125 [==============================] - 1s 8ms/step - loss: 1.5746 - acc: 0.2722 - val_loss: 1.5306 - val_acc: 0.3260\n",
            "Epoch 99/100\n",
            "125/125 [==============================] - 1s 7ms/step - loss: 1.5653 - acc: 0.2837 - val_loss: 1.5279 - val_acc: 0.3270\n",
            "Epoch 100/100\n",
            "125/125 [==============================] - 1s 7ms/step - loss: 1.5616 - acc: 0.2858 - val_loss: 1.5256 - val_acc: 0.3290\n"
          ]
        },
        {
          "output_type": "execute_result",
          "data": {
            "text/plain": [
              "<keras.callbacks.History at 0x7f2887ee6810>"
            ]
          },
          "metadata": {},
          "execution_count": 21
        }
      ]
    },
    {
      "cell_type": "code",
      "source": [
        ""
      ],
      "metadata": {
        "id": "8h5je4OTlNGD"
      },
      "execution_count": null,
      "outputs": []
    },
    {
      "cell_type": "markdown",
      "source": [
        ""
      ],
      "metadata": {
        "id": "KpvAHAYptceb"
      }
    }
  ]
}